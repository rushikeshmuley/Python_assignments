{
  "cells": [
    {
      "cell_type": "code",
      "execution_count": 3,
      "metadata": {
        "id": "1YVTYu-CuCOO",
        "colab": {
          "base_uri": "https://localhost:8080/"
        },
        "outputId": "1ca1254e-973e-453c-bcc2-41dd258e91e6"
      },
      "outputs": [
        {
          "name": "stdout",
          "output_type": "stream",
          "text": [
            "enter your first Number:30\n",
            "enter your Second Number:45\n"
          ]
        },
        {
          "output_type": "execute_result",
          "data": {
            "text/plain": [
              "75"
            ]
          },
          "metadata": {},
          "execution_count": 3
        }
      ],
      "source": [
        "# Define a function calls addNumber(x, y) that takes in two number and returns the sum of the two numbers.\n",
        "\n",
        "x=int(input(\"enter your first Number:\"))\n",
        "y=int(input(\"enter your Second Number:\"))\n",
        "\n",
        "def addNumber(x,y):\n",
        "  sum=x+y\n",
        "  return sum\n",
        "\n",
        "\n",
        "addNumber(x,y)"
      ]
    },
    {
      "cell_type": "code",
      "execution_count": 4,
      "metadata": {
        "id": "1-gIq-Rju2i2",
        "colab": {
          "base_uri": "https://localhost:8080/"
        },
        "outputId": "e8b5fb0c-b603-4072-e196-3ffe1fc85305"
      },
      "outputs": [
        {
          "name": "stdout",
          "output_type": "stream",
          "text": [
            "enter your first Number:45\n",
            "enter your Second Number:32\n"
          ]
        },
        {
          "output_type": "execute_result",
          "data": {
            "text/plain": [
              "13"
            ]
          },
          "metadata": {},
          "execution_count": 4
        }
      ],
      "source": [
        "# Define a function calls subtractNumber(x, y) that takes in two numbers and returns the difference of the two numbers.\n",
        "\n",
        "x=int(input(\"enter your first Number:\"))\n",
        "y=int(input(\"enter your Second Number:\"))\n",
        "\n",
        "def subtractNumber(x,y):\n",
        "  sub=x-y\n",
        "  return sub\n",
        "\n",
        "\n",
        "subtractNumber(x,y)"
      ]
    },
    {
      "cell_type": "code",
      "execution_count": 5,
      "metadata": {
        "id": "kiAE0iLbviG9",
        "colab": {
          "base_uri": "https://localhost:8080/"
        },
        "outputId": "51f5c292-04b0-4bc0-8081-49b73f82c101"
      },
      "outputs": [
        {
          "name": "stdout",
          "output_type": "stream",
          "text": [
            "enter your first Number:45\n",
            "enter your Second Number:32\n"
          ]
        },
        {
          "output_type": "execute_result",
          "data": {
            "text/plain": [
              "45"
            ]
          },
          "metadata": {},
          "execution_count": 5
        }
      ],
      "source": [
        "# Write a function getBiggerNumber(x, y) that takes in two numbers as arguments and returns the bigger number.\n",
        "x=int(input(\"enter your first Number:\"))\n",
        "y=int(input(\"enter your Second Number:\"))\n",
        "\n",
        "def getBiggerNumber(x,y):\n",
        "  Big=max(x,y)\n",
        "  return Big\n",
        "\n",
        "\n",
        "getBiggerNumber(x,y)\n",
        "\n"
      ]
    },
    {
      "cell_type": "code",
      "execution_count": 8,
      "metadata": {
        "id": "10B5oVcZh16d",
        "colab": {
          "base_uri": "https://localhost:8080/"
        },
        "outputId": "fea26ff1-8e50-43c3-9c32-0d7dc795ff4b"
      },
      "outputs": [
        {
          "output_type": "stream",
          "name": "stdout",
          "text": [
            "4.0\n",
            "243.0\n",
            "Input the radius of the circle : 3\n",
            "The area of the circle with radius 3.0 is: 28.274333882308138\n"
          ]
        }
      ],
      "source": [
        "# Python provides many built-in modules with many useful functions. \n",
        "# One such module is the math module. The math module provides many useful functions such as sqrt(x), pow(x, y), ceil(x), floor(x) etc. \n",
        "# You will need to do a \"import math\" before you are allowed to use the functions within the math module.\n",
        "\n",
        "import math\n",
        "# Calculate the square root of 16 and stores it in the variable a\n",
        "a=math.sqrt(16)\n",
        "print(a)\n",
        "# Calculate 3 to the power of 5 and stores it in the variable b\n",
        "b=math.pow(3,5)\n",
        "print(b)\n",
        "\n",
        "# Calculate area of circle with radius = 3.0 by making use of the math.pi constant and store it in the variable c\n",
        "from math import pi\n",
        "r = float(input (\"Input the radius of the circle : \"))\n",
        "c=print (\"The area of the circle with radius \" + str(r) + \" is: \" + str(pi * r**2))\n"
      ]
    },
    {
      "cell_type": "code",
      "execution_count": 34,
      "metadata": {
        "id": "Yado0B99h2E_",
        "colab": {
          "base_uri": "https://localhost:8080/",
          "height": 55
        },
        "outputId": "973dbe54-1581-4630-f352-4e216245ba13"
      },
      "outputs": [
        {
          "name": "stdout",
          "output_type": "stream",
          "text": [
            "Enter the temperature in Celcius:28\n"
          ]
        },
        {
          "output_type": "execute_result",
          "data": {
            "text/plain": [
              "'82.40'"
            ],
            "application/vnd.google.colaboratory.intrinsic+json": {
              "type": "string"
            }
          },
          "metadata": {},
          "execution_count": 34
        }
      ],
      "source": [
        "# Write a function to convert temperature from Celsius to Fahrenheit scale.\n",
        "# oC to oF Conversion: Multipy by 9, then divide by 5, then add 32.\n",
        "x=float(input(\"Enter the temperature in Celcius:\"))\n",
        "def Cel2Fah(x):\n",
        "  y= (x * 1.8) + 32\n",
        "  format_float = '{0:.2f}'.format(y)\n",
        "  # print(format_float)\n",
        "  \n",
        "  return format_float\n",
        "\n",
        "Cel2Fah(x)\n",
        "\n",
        "\n",
        "# Note: Return a string of 2 decimal places.\n",
        "# In - Cel2Fah(28.0)\n",
        "# Out - '82.40'y\n",
        "# In - Cel2Fah(0.00)\n",
        "# Out - '32.00'"
      ]
    },
    {
      "cell_type": "code",
      "execution_count": 42,
      "metadata": {
        "id": "n7lsFol9h2ID",
        "colab": {
          "base_uri": "https://localhost:8080/",
          "height": 73
        },
        "outputId": "31ce4c91-73bf-46a1-9de4-2a845693e82b"
      },
      "outputs": [
        {
          "name": "stdout",
          "output_type": "stream",
          "text": [
            "Enter weigtht of a person: 63\n",
            "Enter height of a person: 1.7\n"
          ]
        },
        {
          "output_type": "execute_result",
          "data": {
            "text/plain": [
              "'21.8'"
            ],
            "application/vnd.google.colaboratory.intrinsic+json": {
              "type": "string"
            }
          },
          "metadata": {},
          "execution_count": 42
        }
      ],
      "source": [
        "# Write a function to compute the BMI of a person.\n",
        "#     BMI = weight(kg)  /  ( height(m)*height(m) )\n",
        "weight=float(input(\"Enter weigtht of a person: \"))\n",
        "height=float(input(\"Enter height of a person: \"))\n",
        "\n",
        "def BMI_person(weight,height):\n",
        "  BMI = weight  /  ( height*height )\n",
        "  format_BMI='{0:.1f}'.format(BMI)\n",
        "  return format_BMI\n",
        "\n",
        "BMI_person(weight,height)\n",
        "\n",
        "# Note: Return a string of 1 decimal place.\n",
        "# In - BMI(63, 1.7)\n",
        "# Out - '21.8'\n",
        "# In - BMI(110, 2)\n",
        "# Out - '27.5'\n",
        "\n"
      ]
    },
    {
      "cell_type": "code",
      "execution_count": 44,
      "metadata": {
        "id": "f2tV1AU8h2LN",
        "colab": {
          "base_uri": "https://localhost:8080/"
        },
        "outputId": "bc471fe0-a9fe-40f1-a863-7b09ff866688"
      },
      "outputs": [
        {
          "output_type": "execute_result",
          "data": {
            "text/plain": [
              "51"
            ]
          },
          "metadata": {},
          "execution_count": 44
        }
      ],
      "source": [
        "1.7# Write a function percent(value, total) that takes in two numbers as arguments, and returns the percentage value as an integer.\n",
        "# In - percent(46, 90)\n",
        "# Out - 51\n",
        "# In - percent(51, 51)\n",
        "# Out - 100\n",
        "# In - percent(63, 12)\n",
        "# Out - 525\n",
        "def percentage(a, b):\n",
        "    return round(a / b * 100)\n",
        "percentage(46, 90)"
      ]
    },
    {
      "cell_type": "code",
      "execution_count": 54,
      "metadata": {
        "id": "QyoWR3dQh2OZ",
        "colab": {
          "base_uri": "https://localhost:8080/"
        },
        "outputId": "f0a60f7a-de63-4fb4-9492-2adf544f25ae"
      },
      "outputs": [
        {
          "output_type": "execute_result",
          "data": {
            "text/plain": [
              "5"
            ]
          },
          "metadata": {},
          "execution_count": 54
        }
      ],
      "source": [
        "# Write a function to compute the hypotenuse given sides a and b of the triangle.\n",
        "# Hint: You can use math.sqrt(x) to compute the square root of x.\n",
        "# In - hypotenuse(3, 4)\n",
        "# Out - 5\n",
        "# In - hypotenuse(5, 12)\n",
        "# Out - 13\n",
        "import math\n",
        "def hypotenuse(a, b):\n",
        "  \n",
        "  \n",
        "  c=math.sqrt(a**2 +b **2)\n",
        "  return round(c)\n",
        "\n",
        "hypotenuse(3, 4)"
      ]
    },
    {
      "cell_type": "code",
      "execution_count": 56,
      "metadata": {
        "id": "XthPUigkh2Ro",
        "colab": {
          "base_uri": "https://localhost:8080/"
        },
        "outputId": "3e8824ab-6a73-43e7-9428-018de9fb055f"
      },
      "outputs": [
        {
          "output_type": "execute_result",
          "data": {
            "text/plain": [
              "10"
            ]
          },
          "metadata": {},
          "execution_count": 56
        }
      ],
      "source": [
        "# Write a function getSumOfLastDigits() that takes in a list of positive numbers and returns the sum of all the last digits in the list.\n",
        "# getSumOfLastDigits([2, 3, 4])\n",
        "# 9\n",
        "# getSumOfLastDigits([1, 23, 456])\n",
        "# 10\n",
        "\n",
        "def getSumOfLastDigits(numList):\n",
        "  return sum(x % 10 for x in numList)\n",
        "\n",
        "getSumOfLastDigits([2, 3, 4])\n",
        "getSumOfLastDigits([1, 23, 456])"
      ]
    },
    {
      "cell_type": "code",
      "execution_count": 65,
      "metadata": {
        "id": "T-uIqm9Mh2Un",
        "colab": {
          "base_uri": "https://localhost:8080/"
        },
        "outputId": "9870a8b2-b404-43ca-8678-54d6ef3b209c"
      },
      "outputs": [
        {
          "output_type": "stream",
          "name": "stdout",
          "text": [
            "my name is Lim and my age is 20 \n"
          ]
        }
      ],
      "source": [
        "# Write a function that uses a default value.\n",
        "# In - introduce('Lim', 20)\n",
        "# Out - 'My name is Lim. I am 20 years old.'\n",
        "# In - introduce('Ahmad')\n",
        "# Out - 'My name is Ahmad. My age is secret.'\n",
        "\n",
        "def introduce(a='Lim',b=20):\n",
        "  print(f\"my name is {a} and my age is {b} \")\n",
        "introduce(a='Lim',b=20)"
      ]
    },
    {
      "cell_type": "code",
      "execution_count": 67,
      "metadata": {
        "id": "h0pXo5vH6wA-",
        "colab": {
          "base_uri": "https://localhost:8080/"
        },
        "outputId": "59b4aae3-52d4-4941-d83c-47b5cf27c9c1"
      },
      "outputs": [
        {
          "output_type": "stream",
          "name": "stdout",
          "text": [
            "Not a equilateral traingle\n"
          ]
        }
      ],
      "source": [
        "# Write a function isEquilateral(x, y, z) that accepts the 3 sides of a triangle as arguments. \n",
        "# The program should return True if it is an equilateral triangle.\n",
        "\n",
        "# In - isEquilateral(2, 4, 3)\n",
        "# False - False\n",
        "# In - isEquilateral(3, 3, 3)\n",
        "# Out - True\n",
        "# In - isEquilateral(-3, -3, -3)\n",
        "# Out - False\n",
        "\n",
        "def isEquilateral(x,y,z):\n",
        "  if x==y==z:\n",
        "    print(\"It is a Equilateral Triangle\")\n",
        "  else:\n",
        "    print(\"Not a equilateral traingle\")\n",
        "isEquilateral(2, 4, 3)"
      ]
    },
    {
      "cell_type": "code",
      "execution_count": 68,
      "metadata": {
        "id": "3NvcKCkn6wFy",
        "colab": {
          "base_uri": "https://localhost:8080/"
        },
        "outputId": "54d94c26-3332-43eb-ede4-5d213918d420"
      },
      "outputs": [
        {
          "output_type": "execute_result",
          "data": {
            "text/plain": [
              "-8"
            ]
          },
          "metadata": {},
          "execution_count": 68
        }
      ],
      "source": [
        "# For a quadratic equation in the form of ax2+bx+c, the discriminant, D is b2-4ac. Write a function to compute the discriminant, D.\n",
        "# In - quadratic(1, 2, 3)\n",
        "# Out - 'The discriminant is -8.'\n",
        "# In - quadratic(1, 3, 2)\n",
        "# Out - 'The discriminant is 1.'\n",
        "# In - quadratic(1, 4, 4)\n",
        "# Out - 'The discriminant is 0.'\n",
        "def quadratic(a,b,c):\n",
        "  discriminant=b**2-4*a*c\n",
        "  return discriminant\n",
        "\n",
        "quadratic(1, 2, 3) \n"
      ]
    },
    {
      "cell_type": "code",
      "execution_count": 70,
      "metadata": {
        "colab": {
          "base_uri": "https://localhost:8080/"
        },
        "id": "ihmuttBS6wJQ",
        "outputId": "8ccf658f-5dc1-474d-fe52-339d338c4cc2"
      },
      "outputs": [
        {
          "output_type": "execute_result",
          "data": {
            "text/plain": [
              "5"
            ]
          },
          "metadata": {},
          "execution_count": 70
        }
      ],
      "source": [
        "# Define a function calls addFirstAndLast(x) that takes in a list of numbers and returns the sum of the first and last numbers.\n",
        "# In - addFirstAndLast([])\n",
        "# Out - 0\n",
        "# In - addFirstAndLast([2, 7, 3])\n",
        "# Out - 5\n",
        "# In - addFirstAndLast([10])\n",
        "# Out - 10\n",
        "list=[2,7,3]\n",
        "def addFirstAndLast(list):\n",
        "  sum=list[0]+list[2]\n",
        "  return sum\n",
        "\n",
        "addFirstAndLast([2, 7, 3])"
      ]
    },
    {
      "cell_type": "code",
      "execution_count": 71,
      "metadata": {
        "colab": {
          "base_uri": "https://localhost:8080/"
        },
        "id": "lEt9HNPI6wM0",
        "outputId": "c2827076-1144-49a7-b19e-948a2af3dfdb"
      },
      "outputs": [
        {
          "output_type": "stream",
          "name": "stdout",
          "text": [
            "12\n",
            "Even number\n"
          ]
        }
      ],
      "source": [
        "# Complete the 'lambda' expression so that it returns True if the argument is an even number, and False otherwise.\n",
        "\n",
        "n=int(input())\n",
        "odd_even=lambda n:\"Even number\" if(n%2==0) else \"Odd number\"\n",
        "print(odd_even(n))\n",
        "\n"
      ]
    },
    {
      "cell_type": "code",
      "execution_count": 84,
      "metadata": {
        "colab": {
          "base_uri": "https://localhost:8080/"
        },
        "id": "zmi81hi76wTK",
        "outputId": "8051a08d-92a6-4f3a-9847-32e96f35fd73"
      },
      "outputs": [
        {
          "output_type": "execute_result",
          "data": {
            "text/plain": [
              "100"
            ]
          },
          "metadata": {},
          "execution_count": 84
        }
      ],
      "source": [
        "# In Python, it is possible to pass a function as a argument to another function. \n",
        "# Write a function useFunction(func, num) that takes in a function and a number as arguments. \n",
        "# The useFunction should produce the output shown in the examples given below.\n",
        "\n",
        "# def addOne(x):\n",
        "#   return x + 1\n",
        "# useFunction(addOne, 4)\n",
        "# 25\n",
        "# useFunction(addOne, 9)\n",
        "# 100\n",
        "# useFunction(addOne, 0)\n",
        "# 1\n",
        "\n",
        "def addOne(x):\n",
        "    return x+1\n",
        "\n",
        "def useFunction(addOne, x):\n",
        "    return addOne(x)**2\n",
        "\n",
        "useFunction(addOne, 9)"
      ]
    },
    {
      "cell_type": "code",
      "source": [],
      "metadata": {
        "id": "6dxLZXEZ45Ae"
      },
      "execution_count": null,
      "outputs": []
    }
  ],
  "metadata": {
    "colab": {
      "provenance": []
    },
    "kernelspec": {
      "display_name": "Python 3",
      "language": "python",
      "name": "python3"
    },
    "language_info": {
      "codemirror_mode": {
        "name": "ipython",
        "version": 3
      },
      "file_extension": ".py",
      "mimetype": "text/x-python",
      "name": "python",
      "nbconvert_exporter": "python",
      "pygments_lexer": "ipython3",
      "version": "3.9.1"
    }
  },
  "nbformat": 4,
  "nbformat_minor": 0
}