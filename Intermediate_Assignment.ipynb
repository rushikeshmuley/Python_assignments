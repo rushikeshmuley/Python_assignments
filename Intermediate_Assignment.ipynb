{
  "cells": [
    {
      "cell_type": "markdown",
      "id": "thermal-corporation",
      "metadata": {
        "id": "thermal-corporation"
      },
      "source": [
        "# Assume Data wherever needed/necessary"
      ]
    },
    {
      "cell_type": "markdown",
      "id": "central-malta",
      "metadata": {
        "id": "central-malta"
      },
      "source": [
        "### Loop Statements"
      ]
    },
    {
      "cell_type": "code",
      "execution_count": 5,
      "id": "elementary-guatemala",
      "metadata": {
        "colab": {
          "base_uri": "https://localhost:8080/"
        },
        "id": "elementary-guatemala",
        "outputId": "e95ca4d1-fa84-4e69-cd35-8cf43f64e2f2"
      },
      "outputs": [
        {
          "output_type": "stream",
          "name": "stdout",
          "text": [
            "enter the list3.\"HI\",67,0,12,0,8\n",
            "['3', '.', '\"', 'H', 'I', '\"', ',', '6', '7', ',', '0', ',', '1', '2', ',', '0', ',', '8']\n",
            "3\n",
            ".\n",
            "\"\n",
            "H\n",
            "I\n",
            "\"\n",
            ",\n",
            "6\n",
            "7\n",
            ",\n",
            "0\n",
            ",\n",
            "1\n",
            "2\n",
            ",\n",
            "0\n",
            ",\n",
            "8\n"
          ]
        }
      ],
      "source": [
        "# #L1\n",
        "# WAP to print all elements of a list using a for loop. \n",
        "# Take the elements of the list from the user.\n",
        "\n",
        "# For e.g. Input: l= ['3','Hi','67','0','12','0','8']\n",
        "#         Output: 3\n",
        "#                 Hi\n",
        "#                 67\n",
        "#                 0\n",
        "#                 12\n",
        "#                 0\n",
        "#                 8\n",
        "S=list(input(\"enter the list\"))\n",
        "print(S)\n",
        "for i in S:\n",
        "  print(i)"
      ]
    },
    {
      "cell_type": "code",
      "execution_count": 13,
      "id": "overall-naples",
      "metadata": {
        "colab": {
          "base_uri": "https://localhost:8080/"
        },
        "id": "overall-naples",
        "outputId": "3d3c4e49-1dfc-49d9-d55d-c10cb53ce029"
      },
      "outputs": [
        {
          "output_type": "stream",
          "name": "stdout",
          "text": [
            "Enter a length of list5\n",
            "enter a list\"a\", \"b\", \"y\", \"e\", \"p\"\n",
            "enter a element you wanna searcha\n",
            "element  found\n",
            "\"\n"
          ]
        }
      ],
      "source": [
        "#L2\n",
        "# WAP to take inputs from user to make a list. Length of the list has to be taken from the user.\n",
        "# Again take one input from user and search it in the list and delete that element, if found.\n",
        "# If not found, print \"Element not present\".\n",
        "\n",
        "# For e.g. Input: len_list = 5\n",
        "#                 list = [\"a\", \"b\", \"y\", \"e\", \"p\"]\n",
        "#                 search_element = \"g\"\n",
        "#                     Output: \"Element not found\"\n",
        "#                 search_element = \"e\"\n",
        "#                     Output: [\"a\", \"b\", \"y\", \"p\"]\n",
        "\n",
        "length_list=int(input(\"Enter a length of list\"))\n",
        "l=list(input(\"enter a list\"))\n",
        "a=str(input(\"enter a element you wanna search\"))\n",
        "if a in l:\n",
        "  l=l.pop(0)\n",
        " \n",
        "  print(\"element  found\")\n",
        "  \n",
        "else:\n",
        "  print(\"element not found\")\n",
        "print(l)"
      ]
    },
    {
      "cell_type": "code",
      "execution_count": 16,
      "id": "specific-catalog",
      "metadata": {
        "colab": {
          "base_uri": "https://localhost:8080/"
        },
        "id": "specific-catalog",
        "outputId": "9d85f28c-2530-477d-c8cc-21d60d94b950"
      },
      "outputs": [
        {
          "output_type": "stream",
          "name": "stdout",
          "text": [
            "enter a marks obtained in an examination: 95\n",
            "student received Grade A\n"
          ]
        }
      ],
      "source": [
        "# #L3\n",
        "# Make a grading system for a school based on the marks of the students using the following criteria.\n",
        "# Marks 0 - 40 : Grade F\n",
        "#      41 - 50 : Grade E\n",
        "#      51 - 70 : Grade D\n",
        "#      71 - 80 : Grade C\n",
        "#      81 - 90 : Grade B\n",
        "#      91 - 100: Grade A\n",
        "# Continuously take marks as input from the user and print the grade. \n",
        "# The user can enter \"Stop\" to stop the loop.\n",
        "\n",
        "marks=int(input(\"enter a marks obtained in an examination: \"))\n",
        "\n",
        "if marks>90 and marks<=100:\n",
        "  print(\"student received Grade A\")\n",
        "elif marks>80 and marks<=90:\n",
        "  print(\"student Received Grade B\")\n",
        "elif marks>70 and marks<=80:\n",
        "   print(\"Student Received Grade C\")\n",
        "elif marks >50 and marks<=70:\n",
        "    print(\"Student Received Grade D\")\n",
        "elif marks >40 and marks<=50:\n",
        "  print(\"Student Received Grade E\")\n",
        "else:\n",
        "  print(\"Student Received Grade F i.e scope for improvement hard luck this time\")\n"
      ]
    },
    {
      "cell_type": "code",
      "execution_count": 25,
      "id": "italic-casino",
      "metadata": {
        "colab": {
          "base_uri": "https://localhost:8080/"
        },
        "id": "italic-casino",
        "outputId": "5a43f0a8-ad90-4fa9-8d4b-ae4b171027b6"
      },
      "outputs": [
        {
          "output_type": "stream",
          "name": "stdout",
          "text": [
            "Total Number Taken as Input5\n",
            "1\n",
            "2\n",
            "3\n",
            "4\n",
            "5\n",
            "[1, 2, 3, 4, 5]\n",
            "[1, 8, 27, 64, 125]\n"
          ]
        }
      ],
      "source": [
        "#L4\n",
        "# WAP to save the cube of all numbers from 1 to a number n in list, \n",
        "# where n is taken as input from the user.\n",
        "\n",
        "# For e.g. Input: 5\n",
        "#         Output: [1, 8, 27, 64, 125]  #Cube of numbers from 1 to 5 where 5 is the input from the user\n",
        "\n",
        "n=int(input(\"Total Number Taken as Input: \"))\n",
        "l=[]\n",
        "# iterating till the range\n",
        "for i in range(0, n):\n",
        "    ele = int(input())\n",
        "  \n",
        "    l.append(ele) # adding the element\n",
        "      \n",
        "print(l)\n",
        "res = []\n",
        "for i in l:\n",
        "    res.append(i*i*i)\n",
        "  \n",
        "# printing result\n",
        "print(res)"
      ]
    },
    {
      "cell_type": "code",
      "execution_count": 28,
      "id": "nervous-publication",
      "metadata": {
        "colab": {
          "base_uri": "https://localhost:8080/"
        },
        "id": "nervous-publication",
        "outputId": "21362620-97cf-4fec-e66e-15e46ec7c3e5"
      },
      "outputs": [
        {
          "output_type": "stream",
          "name": "stdout",
          "text": [
            "14\n",
            "12\n",
            "10\n",
            "8\n",
            "6\n",
            "4\n"
          ]
        }
      ],
      "source": [
        "5#L5\n",
        "# # WAP to print even numbers in a given range in reverse order.\n",
        "# Take the range from the user.\n",
        "\n",
        "# For e.g. Input: start = 3\n",
        "#                 End = 14\n",
        "#         Output: 14, 12, 10, 8, 6, 4\n",
        "\n",
        "for i in range(14, 3, -2):\n",
        "    print(i)\n",
        "\n"
      ]
    },
    {
      "cell_type": "code",
      "execution_count": 41,
      "id": "juvenile-scope",
      "metadata": {
        "colab": {
          "base_uri": "https://localhost:8080/"
        },
        "id": "juvenile-scope",
        "outputId": "bb5aed7c-82bd-44f4-b74d-a2ac11b3297c"
      },
      "outputs": [
        {
          "output_type": "stream",
          "name": "stdout",
          "text": [
            "13\n",
            "11\n",
            "9\n",
            "7\n",
            "5\n",
            "3\n"
          ]
        }
      ],
      "source": [
        "#L6\n",
        "# WAP to print odd numbers in a given range in reverse order.\n",
        "# Take the range from the user.\n",
        "\n",
        "# For e.g. Input: start = 3\n",
        "#                 End = 14\n",
        "#         Output: 13, 11, 9, 7, 5, 3\n",
        "\n",
        "for i in range(13, 2,-2):\n",
        "  print(i)\n",
        "  "
      ]
    },
    {
      "cell_type": "code",
      "execution_count": 42,
      "id": "southwest-barrel",
      "metadata": {
        "colab": {
          "base_uri": "https://localhost:8080/"
        },
        "id": "southwest-barrel",
        "outputId": "a57191a1-f08f-421c-a0cf-0e2cdbc8629b"
      },
      "outputs": [
        {
          "output_type": "stream",
          "name": "stdout",
          "text": [
            "Display multiplication table of? 5\n",
            "5 x 1 = 5\n",
            "5 x 2 = 10\n",
            "5 x 3 = 15\n",
            "5 x 4 = 20\n",
            "5 x 5 = 25\n",
            "5 x 6 = 30\n",
            "5 x 7 = 35\n",
            "5 x 8 = 40\n",
            "5 x 9 = 45\n",
            "5 x 10 = 50\n"
          ]
        }
      ],
      "source": [
        "# L7\n",
        "# WAP to print multiplication table of a number taken as input from the user.\n",
        "\n",
        "# For e.g. Input: 5\n",
        "#         Output: 5*1 = 5\n",
        "#                 5*2 = 10\n",
        "#                 .\n",
        "#                 .\n",
        "#                 .\n",
        "#                 5*10 = 50\n",
        "\n",
        "num = int(input(\"Display multiplication table of? \"))\n",
        "\n",
        "# Iterate 10 times from i = 1 to 10\n",
        "for i in range(1, 11):\n",
        "   print(num, 'x', i, '=', num*i)\n"
      ]
    },
    {
      "cell_type": "code",
      "execution_count": 44,
      "id": "german-potter",
      "metadata": {
        "colab": {
          "base_uri": "https://localhost:8080/"
        },
        "id": "german-potter",
        "outputId": "0cf0f323-ab54-465d-ca96-15f807b160f5"
      },
      "outputs": [
        {
          "output_type": "stream",
          "name": "stdout",
          "text": [
            "1 \n",
            "1 2 \n",
            "1 2 3 \n",
            "1 2 3 4 \n"
          ]
        }
      ],
      "source": [
        "# L8\n",
        "# WAP to print the following pattern.\n",
        "# e.g. i/p: n = 4\n",
        "#     o/p:\n",
        "#         1\n",
        "#         1 2\n",
        "#         1 2 3\n",
        "#         1 2 3 4\n",
        "\n",
        "rows = 4\n",
        "for i in range(1, rows + 1):\n",
        "    for j in range(1, i + 1):\n",
        "        print(j, end=' ')\n",
        "    print('')"
      ]
    },
    {
      "cell_type": "code",
      "execution_count": 46,
      "id": "activated-orbit",
      "metadata": {
        "colab": {
          "base_uri": "https://localhost:8080/"
        },
        "id": "activated-orbit",
        "outputId": "b92f9d9e-8d9c-4245-d41a-edf37aa49595"
      },
      "outputs": [
        {
          "output_type": "stream",
          "name": "stdout",
          "text": [
            "enter a no of terms: 5\n",
            "24690\n"
          ]
        }
      ],
      "source": [
        "#L9\n",
        "# Write a program to calculate the sum of series up to n terms for a digit d. n & d are taken as input from the user.\n",
        "\n",
        "# For example:\n",
        "#     Input: n = 5, d = 2\n",
        "#     Logic: 2 + 22 + 222 + 2222 + 22222 \n",
        "#     Output: 24690\n",
        "\n",
        "number_of_terms = int(input(\"enter a no of terms: \"))\n",
        "sum1=0\n",
        "for i in range (1,number_of_terms+1):\n",
        "    num=eval('2'*i)\n",
        "    sum1+=num\n",
        "print(sum1)\n",
        "   "
      ]
    },
    {
      "cell_type": "code",
      "execution_count": 52,
      "id": "spread-answer",
      "metadata": {
        "colab": {
          "base_uri": "https://localhost:8080/"
        },
        "id": "spread-answer",
        "outputId": "ee945de3-a969-48cc-c03a-aa61ec5dd413"
      },
      "outputs": [
        {
          "output_type": "stream",
          "name": "stdout",
          "text": [
            "Enter your number: 4\n",
            "Enter your number: 5\n",
            "Enter your number: 2\n",
            "Enter your number: 0\n",
            "[4, 5, 2, 0]\n",
            "11\n",
            "2.75\n"
          ]
        }
      ],
      "source": [
        "#L10\n",
        "# WAP that keeps on accepting numbers from the user until the user enters Zero(0) as input.\n",
        "# Display the sum and average of all the numbers.\n",
        "\n",
        "# For example:\n",
        "#     Input: 3, 6, 8, 2, 5, Stop\n",
        "#     Output: Sum = 24\n",
        "#             Average = 4.8\n",
        "l=[]\n",
        "while True:\n",
        "  A=int(input(\"Enter your number: \"))\n",
        "  l.append(A)\n",
        "  if A==0:\n",
        "    break\n",
        "print(l)\n",
        "count = 0\n",
        " \n",
        "# Finding the sum\n",
        "for i in l:\n",
        "    count += i\n",
        "print(count)\n",
        "avg=count/(len(l))\n",
        "print(avg)"
      ]
    },
    {
      "cell_type": "code",
      "execution_count": 54,
      "id": "incorporated-stupid",
      "metadata": {
        "colab": {
          "base_uri": "https://localhost:8080/"
        },
        "id": "incorporated-stupid",
        "outputId": "1bf441d1-d8c3-4529-8e21-b64e61d1e6ac"
      },
      "outputs": [
        {
          "output_type": "stream",
          "name": "stdout",
          "text": [
            "Enter your number: 3\n",
            "Enter your number: 6\n",
            "Enter your number: 2\n",
            "Enter your number: 9\n",
            "Enter your number: 0\n",
            "[3, 6, 2, 9, 0]\n",
            "4.0\n"
          ]
        }
      ],
      "source": [
        "# 2#L11\n",
        "# Accept n numbers from the user and display their average. n is input from the user.\n",
        "\n",
        "# For example:\n",
        "#     Input: n = 5\n",
        "#         Numbers = 3, 6, 2, 9, 0\n",
        "#     Output: Average = 4.0\n",
        "\n",
        "\n",
        "l=[]\n",
        "while True:\n",
        "  A=int(input(\"Enter your number: \"))\n",
        "  l.append(A)\n",
        "  if A==0:\n",
        "    break\n",
        "print(l)\n",
        "count = 0\n",
        " \n",
        "# Finding the sum\n",
        "for i in l:\n",
        "    count += i\n",
        "\n",
        "avg=count/(len(l))\n",
        "print(avg)"
      ]
    },
    {
      "cell_type": "code",
      "execution_count": 55,
      "id": "referenced-order",
      "metadata": {
        "colab": {
          "base_uri": "https://localhost:8080/"
        },
        "id": "referenced-order",
        "outputId": "fb6ed915-ca8f-42b2-8079-821751223138"
      },
      "outputs": [
        {
          "output_type": "stream",
          "name": "stdout",
          "text": [
            "Enter the String: Rushikesh chandrakant muley\n",
            "{'r': 2, 'u': 2, 's': 2, 'h': 3, 'i': 1, 'k': 2, 'e': 2, ' ': 2, 'c': 1, 'a': 3, 'n': 2, 'd': 1, 't': 1, 'm': 1, 'l': 1, 'y': 1}\n"
          ]
        }
      ],
      "source": [
        "#S1\n",
        "# Write a Python program to count the number of each of the characters (character frequency) \n",
        "#    in a string input by the user. Ignore the case.\n",
        "#    For example: Input: \"Python is great\"\n",
        "# \t\tOutput: P = 1, y = 1, t = 2, and so on...\n",
        "n=input(\"Enter the String: \").lower()\n",
        "s={}\n",
        "for i in n:\n",
        "    if i in s:\n",
        "        s[i]+=1\n",
        "    else:\n",
        "        s[i]=1\n",
        "print(s)\n"
      ]
    },
    {
      "cell_type": "code",
      "execution_count": 66,
      "id": "confirmed-graduate",
      "metadata": {
        "colab": {
          "base_uri": "https://localhost:8080/"
        },
        "id": "confirmed-graduate",
        "outputId": "9d0ebdfa-f660-450a-fb3f-21a633337be7"
      },
      "outputs": [
        {
          "output_type": "stream",
          "name": "stdout",
          "text": [
            "[0, 1, 6, 7]\n"
          ]
        }
      ],
      "source": [
        "#S2\n",
        "# Write a Python program to find the digits which are absent in a given mobile number.\n",
        "\n",
        "#    For example: Input : 9354328855\n",
        "#                 Output: 0167\n",
        "\n",
        "\n",
        "\n",
        "def absent_digits(n):\n",
        "  all_nums = set([0,1,2,3,4,5,6,7,8,9])\n",
        "  n = set([int(i) for i in n])\n",
        "  n = n.symmetric_difference(all_nums)\n",
        "  n = sorted(n)\n",
        "  return n\n",
        "print(absent_digits([9,3,5,4,3,2,8,8,5,5]))\n",
        "\n",
        "  "
      ]
    },
    {
      "cell_type": "code",
      "execution_count": 72,
      "id": "graduate-scratch",
      "metadata": {
        "colab": {
          "base_uri": "https://localhost:8080/"
        },
        "id": "graduate-scratch",
        "outputId": "2261cc16-9728-43d6-877d-cc95e2a873d1"
      },
      "outputs": [
        {
          "output_type": "stream",
          "name": "stdout",
          "text": [
            "3.0\n"
          ]
        }
      ],
      "source": [
        "# #S3\n",
        "# WAP in python to find average of n numbers taken as input from the user in realtime.\n",
        "\n",
        "l=[1,2,3,4,5]\n",
        "count = 0\n",
        " \n",
        "# Finding the sum\n",
        "for i in l:\n",
        "    count += i\n",
        "\n",
        "avg=count/(len(l))\n",
        "print(avg)"
      ]
    },
    {
      "cell_type": "code",
      "execution_count": 76,
      "id": "international-hazard",
      "metadata": {
        "colab": {
          "base_uri": "https://localhost:8080/"
        },
        "id": "international-hazard",
        "outputId": "1009df10-8f82-43aa-db15-62cba158418d"
      },
      "outputs": [
        {
          "output_type": "stream",
          "name": "stdout",
          "text": [
            "Enter words separated by Hyphens : \n",
            "p-y-t-h-o-n\n",
            "h-n-o-p-t-y\n"
          ]
        }
      ],
      "source": [
        "5\n",
        "555#S4\n",
        "# WAP in python that accepts a hyphen-separated sequence of \n",
        "# alphabets as input and prints the words in a hyphen-separated \n",
        "# sequence after sorting them alphabetically.\n",
        "\n",
        "# For e.g. Input: \"p-y-t-h-o-n\"\n",
        "#         Output: ['h', 'n','o', 'p', 't', 'y']\n",
        "\n",
        "print(\"Enter words separated by Hyphens : \")\n",
        "listt = [wrd for wrd in input().split(\"-\")]\n",
        "listt.sort()\n",
        "print('-'.join(listt))"
      ]
    },
    {
      "cell_type": "code",
      "execution_count": 81,
      "id": "dense-jungle",
      "metadata": {
        "colab": {
          "base_uri": "https://localhost:8080/"
        },
        "id": "dense-jungle",
        "outputId": "47e06ac5-27fa-408a-ea9a-918c1e55417c"
      },
      "outputs": [
        {
          "output_type": "stream",
          "name": "stdout",
          "text": [
            "Enter the string : Qwerty@123\n",
            "Vowels:  1\n",
            "Consonants:  5\n",
            "Digits:  3\n",
            "White spaces:  0\n",
            "Symbols :  1\n"
          ]
        }
      ],
      "source": [
        "#S5\n",
        "# WAP in python to find the number of vowels, consonants, digits, special \n",
        "# characters and white space characters in a string input by the user.\n",
        "\n",
        "# Example: Input: \"Qwerty@123\"\n",
        "# \toutput: v = 1, c = 5, d = 3, w = 0, s = 1\n",
        "\n",
        "# Python program to count the number of vowels, consonants, digits and special characters in a string\n",
        "\n",
        "str = input('Enter the string : ')\n",
        "vowels = 0\n",
        "digits = 0\n",
        "consonants = 0\n",
        "spaces = 0\n",
        "symbols = 0\n",
        "str = str.lower()\n",
        "for i in range(0, len(str)):\n",
        "\tif(str[i] == 'a'or str[i] == 'e' or str[i] == 'i' or str[i] == 'o' or str[i] == 'u'):\n",
        "\t\tvowels = vowels + 1\n",
        "\telif((str[i] >= 'a'and str[i] <= 'z')):\n",
        "\t\tconsonants = consonants + 1\n",
        "\telif( str[i] >= '0' and str[i] <= '9'):\n",
        "\t\tdigits = digits + 1\n",
        "\telif (str[i] ==' '):\n",
        "\t\tspaces = spaces + 1\n",
        "\telse:\n",
        "\t\tsymbols = symbols + 1\n",
        "print(\"Vowels: \", vowels);\n",
        "print(\"Consonants: \", consonants);\n",
        "print(\"Digits: \", digits);\n",
        "print(\"White spaces: \", spaces);\n",
        "print(\"Symbols : \", symbols);"
      ]
    },
    {
      "cell_type": "code",
      "execution_count": 4,
      "id": "black-publicity",
      "metadata": {
        "colab": {
          "base_uri": "https://localhost:8080/"
        },
        "id": "black-publicity",
        "outputId": "bf37518c-6e03-44a4-84a6-b7059fd5ecb5"
      },
      "outputs": [
        {
          "output_type": "stream",
          "name": "stdout",
          "text": [
            "Enter the password: Qwerty@123\n",
            "That is a valid password.\n"
          ]
        }
      ],
      "source": [
        "#S6\n",
        "# WAP in python to check the strength of the password input by the user based on the following features.\n",
        "#     Length minimum of 8 characters  (+1 Strength)\n",
        "#     Combination of upper case & lower case characters (+1 Strength)\n",
        "#     Combination of alphabets & digits (+1 Strength)\n",
        "#     Use of Special Characters (+1 Strength)\n",
        "    \n",
        "# Example: Input: \"Qwerty@123\"\n",
        "#         Output: Strength = 4\n",
        "\n",
        "length = lower = upper = digit = False\n",
        "\n",
        "password = input('Enter the password: ')\n",
        "\n",
        "if len(password)>= 8:\n",
        "    length = True\n",
        "    \n",
        "    for letter in password:\n",
        "        if letter.islower():\n",
        "            lower = True\n",
        "        elif letter.isupper():\n",
        "            upper = True\n",
        "        elif letter.isdigit():\n",
        "            digit = True\n",
        "\n",
        "\n",
        "if length and lower and upper and digit:\n",
        "    print('That is a valid password.')\n",
        "else:\n",
        "    print('That password is not valid.')\n",
        "\n",
        "\n"
      ]
    },
    {
      "cell_type": "code",
      "execution_count": 5,
      "id": "fresh-encoding",
      "metadata": {
        "colab": {
          "base_uri": "https://localhost:8080/"
        },
        "id": "fresh-encoding",
        "outputId": "94fbd09f-2eb1-464e-da5a-856bdaeb0713"
      },
      "outputs": [
        {
          "output_type": "stream",
          "name": "stdout",
          "text": [
            "The strings are the same (case insensitive)\n"
          ]
        }
      ],
      "source": [
        "#S7\n",
        "# WAP in python to compare two strings and tell the user if both of those strings are same or not. \n",
        "# Ignore their case.\n",
        "\n",
        "# Example: Input String1: \"Hello\"\n",
        "# \tInput String2: \"hello\"\n",
        "# \tOutput: Strings are same\n",
        "\n",
        "\n",
        "string1 = 'Hello'\n",
        "string2 = 'hello'\n",
        "\n",
        "if string1.casefold() == string2.casefold():\n",
        "    print(\"The strings are the same (case insensitive)\")\n",
        "else:\n",
        "    print(\"The strings are NOT the same (case insensitive)\")"
      ]
    },
    {
      "cell_type": "code",
      "execution_count": 8,
      "id": "acoustic-pastor",
      "metadata": {
        "colab": {
          "base_uri": "https://localhost:8080/"
        },
        "id": "acoustic-pastor",
        "outputId": "084e8ebf-6f56-403b-e555-ee04e9eda461"
      },
      "outputs": [
        {
          "output_type": "stream",
          "name": "stdout",
          "text": [
            "Enter Your String: Neil Nitin Mukesh\n",
            "2\n"
          ]
        }
      ],
      "source": [
        "#S8\n",
        "# WAP in python to calculate the number of times a character is repeated in a given string.\n",
        "# Take the string and character from the user.\n",
        "\n",
        "# Example: Input String: \"Neil Nitin Mukesh\"\n",
        "#         Input Character: \"e\"\n",
        "#         Output: 2\n",
        "\n",
        "S=input(\"Enter Your String: \")\n",
        "\n",
        "character_repeated= S.count(\"e\")\n",
        "\n",
        "print(character_repeated)"
      ]
    },
    {
      "cell_type": "code",
      "execution_count": 9,
      "id": "handmade-bidding",
      "metadata": {
        "colab": {
          "base_uri": "https://localhost:8080/"
        },
        "id": "handmade-bidding",
        "outputId": "44878eb9-a094-45cb-fd8c-e38a6c2e007d"
      },
      "outputs": [
        {
          "output_type": "stream",
          "name": "stdout",
          "text": [
            "Enter a string: rushimuleypatil\n",
            "rsiueptl\n"
          ]
        }
      ],
      "source": [
        "# #S 9\n",
        "# wap as take a string from user and disply the character at even positions.\n",
        "\n",
        "S=input(\"Enter a string: \")\n",
        "\n",
        "print(S[::2])\n",
        "\n"
      ]
    },
    {
      "cell_type": "code",
      "execution_count": 12,
      "id": "polish-regulation",
      "metadata": {
        "colab": {
          "base_uri": "https://localhost:8080/"
        },
        "id": "polish-regulation",
        "outputId": "dd1f54b6-a407-4409-aeca-ec93005f3c4f"
      },
      "outputs": [
        {
          "output_type": "stream",
          "name": "stdout",
          "text": [
            "Enter a your name: rushi muley patil\n",
            "Rushi Muley Patil\n"
          ]
        }
      ],
      "source": [
        "# #S10\n",
        "# WAP in python to capitalize the first letter of the First Name and Surname where whole name is taken as input from the user.\n",
        "\n",
        "# Example: Input: \"first last\" or \"FIRST LAST\" or \"first lAst\" i.e. Input can be in any case.\n",
        "#         Output: \"First Last\"\n",
        "\n",
        "name=input(\"Enter a your name: \")\n",
        "print(name.title())\n"
      ]
    },
    {
      "cell_type": "code",
      "execution_count": 18,
      "id": "thrown-hampshire",
      "metadata": {
        "colab": {
          "base_uri": "https://localhost:8080/"
        },
        "id": "thrown-hampshire",
        "outputId": "504f5ab6-c925-4176-bbb0-fb6607e918cf"
      },
      "outputs": [
        {
          "output_type": "stream",
          "name": "stdout",
          "text": [
            "Input comma separated sequence of words red, white, black, red, green \n",
            " black, green , red, red, white\n"
          ]
        }
      ],
      "source": [
        "#S11\n",
        "# Write a Python program that accepts a comma separated sequence of words as input and \n",
        "# prints the unique words in sorted form (alphanumerically).\n",
        "\n",
        "# \tSample Words : red, white, black, red, green    \n",
        "# \tExpected Result : black, green, red, red, white\n",
        "\n",
        "items = input(\"Input comma separated sequence of words\")\n",
        "words = [word for word in items.split(\",\")]\n",
        "print(\",\".join(sorted(list(words))))\n"
      ]
    },
    {
      "cell_type": "code",
      "execution_count": 20,
      "id": "empty-necklace",
      "metadata": {
        "colab": {
          "base_uri": "https://localhost:8080/"
        },
        "id": "empty-necklace",
        "outputId": "b1d88961-3c58-4c18-cab6-30775a40e6c4"
      },
      "outputs": [
        {
          "output_type": "stream",
          "name": "stdout",
          "text": [
            "o 4\n",
            "e 3\n",
            "t 2\n",
            "h 2\n",
            "u 2\n",
            "r 2\n"
          ]
        }
      ],
      "source": [
        " #S12\n",
        "# Write a Python program to count repeated characters in a string.\n",
        "\n",
        "# \tSample string: 'thequickbrownfoxjumpsoverthelazydog'\n",
        "# \tExpected output :\n",
        "# \t\t\to 4\n",
        "# \t\t\te 3\n",
        "# \t\t\tu 2\n",
        "# \t\t\th 2\n",
        "# \t\t\tr 2\n",
        "# \t\t\tt 2\n",
        "import collections\n",
        "str1 = 'thequickbrownfoxjumpsoverthelazydog'\n",
        "d = collections.defaultdict(int)\n",
        "for c in str1:\n",
        "    d[c] += 1\n",
        "\n",
        "for c in sorted(d, key=d.get, reverse=True):\n",
        "  if d[c] > 1:\n",
        "      print('%s %d' % (c, d[c]))\n"
      ]
    },
    {
      "cell_type": "markdown",
      "id": "phantom-woman",
      "metadata": {
        "id": "phantom-woman"
      },
      "source": [
        "### List Questions"
      ]
    },
    {
      "cell_type": "code",
      "execution_count": 23,
      "id": "average-intervention",
      "metadata": {
        "colab": {
          "base_uri": "https://localhost:8080/"
        },
        "id": "average-intervention",
        "outputId": "5bd8fe98-01fe-4562-f5a5-7b776c49a489"
      },
      "outputs": [
        {
          "output_type": "execute_result",
          "data": {
            "text/plain": [
              "['My', 'name', 'is', 'Alankrita', '.']"
            ]
          },
          "metadata": {},
          "execution_count": 23
        }
      ],
      "source": [
        "#Li1\n",
        "# WAP to remove empty strings from the list of strings. Take list as input from the user.\n",
        "\n",
        "# For example: Input: [\"My\", \"name\", \"\", \"is\", \"\", \"Alankrita\", \"\", \".\"]\n",
        "#             Output: [\"My\", \"name\", \"is\", \"Alankrita\", \".\"]\n",
        "\n",
        "\n",
        "\n",
        "l=[\"My\", \"name\", \"\", \"is\", \"\", \"Alankrita\", \"\", \".\"]\n",
        "new_list = []\n",
        "for x in l:\n",
        "    if x != '':\n",
        "        new_list.append(x)\n",
        "\n",
        "new_list"
      ]
    },
    {
      "cell_type": "code",
      "execution_count": 30,
      "id": "level-provision",
      "metadata": {
        "id": "level-provision"
      },
      "outputs": [],
      "source": [
        "#Li2\n",
        "# WAP to make a list of all the characters starting from character 'A' to the input character from the user.\n",
        "\n",
        "# For e.g. Input: 'H'\n",
        "#         Output: [\"A\", \"B\", \"C\", \"D\", \"E\", \"F\", \"G\", \"H\"]\n",
        "\n",
        "\n"
      ]
    },
    {
      "cell_type": "code",
      "execution_count": 29,
      "id": "foreign-freeware",
      "metadata": {
        "colab": {
          "base_uri": "https://localhost:8080/"
        },
        "id": "foreign-freeware",
        "outputId": "1c94d57d-9569-429c-9ed5-b4ac5316f345"
      },
      "outputs": [
        {
          "output_type": "stream",
          "name": "stdout",
          "text": [
            "Enter A employee name: Komal\n",
            "Employee is present\n"
          ]
        }
      ],
      "source": [
        "#Li3\n",
        "# WAP to check if a specific employee e is present in a company or not. Employee names are saved in a list.\n",
        "# e is taken as input from the user.\n",
        "\n",
        "# For example: empList = [\"Ashwin\", \"Rachit\", \"Sanjana\", \"David\", \"Komal\"]\n",
        "#             Input1: \"Komal\"\n",
        "#             Output1: \"Employee is present\"\n",
        "            \n",
        "#             Input2: \"Harshil\"\n",
        "#             Output2: \"Employee is not present\"\n",
        "\n",
        "emp_name=input(\"Enter A employee name: \")\n",
        "\n",
        "l=[\"Ashwin\", \"Rachit\", \"Sanjana\", \"David\", \"Komal\"]\n",
        "\n",
        "\n",
        "if emp_name in l:\n",
        "    print(\"Employee is present\")\n",
        "else:\n",
        "    print(\"Employee is not Present\")\n"
      ]
    },
    {
      "cell_type": "code",
      "execution_count": 31,
      "id": "roman-aaron",
      "metadata": {
        "colab": {
          "base_uri": "https://localhost:8080/"
        },
        "id": "roman-aaron",
        "outputId": "c23cbf80-be3e-4db0-9a9e-8e71546d71fb"
      },
      "outputs": [
        {
          "output_type": "stream",
          "name": "stdout",
          "text": [
            "position of minimum element:  2\n",
            "position of maximum element:  3\n"
          ]
        }
      ],
      "source": [
        "#Li4\n",
        "# Write a python program to find the maximum and minimum number in a list of 10 elements \n",
        "#    (taken as input from the user) and also find the index position of the these numbers.\n",
        "    \n",
        "#    For example: Input : [25, 2, 1, 86, 42, 32, 27, 12, 31, 10]\n",
        "# \t\tOutput: Max Number: 86, Index of Max Number: 3\n",
        "# \t\t\tMin Number: 1, Index of Min Number: 2\n",
        "list=[25, 2, 1, 86, 42, 32, 27, 12, 31, 10]\n",
        "# min element's position/index\n",
        "min = list.index (min(list))\n",
        "# max element's position/index\n",
        "max = list.index (max(list))\n",
        "\n",
        "# printing the position/index of min and max elements\n",
        "print (\"position of minimum element: \", min)\n",
        "print (\"position of maximum element: \", max)\n"
      ]
    },
    {
      "cell_type": "code",
      "execution_count": 32,
      "id": "announced-victor",
      "metadata": {
        "colab": {
          "base_uri": "https://localhost:8080/"
        },
        "id": "announced-victor",
        "outputId": "0dd2f4b8-354f-46d9-ea97-f7a16ab6651c"
      },
      "outputs": [
        {
          "output_type": "execute_result",
          "data": {
            "text/plain": [
              "[400, 300, 200, 100]"
            ]
          },
          "metadata": {},
          "execution_count": 32
        }
      ],
      "source": [
        "#Li5\n",
        "# Given two Python lists of same length. Iterate both lists simultaneously such that list1 \n",
        "#    should display item in original order and list2 in reverse order.\n",
        "    \n",
        "#    For example: Input = list1 = [10, 20, 30, 40]\n",
        "# \t\t\tlist2 = [100, 200, 300, 400]\n",
        "#             Output: 10 400\n",
        "#                     20 300\n",
        "#                     30 200\n",
        "#                     40 100\n",
        "\n",
        "list1=[10, 20, 30, 40]\n",
        "list2=[100, 200, 300, 400]\n",
        "list2[::-1]"
      ]
    },
    {
      "cell_type": "code",
      "execution_count": 37,
      "id": "rural-stevens",
      "metadata": {
        "colab": {
          "base_uri": "https://localhost:8080/"
        },
        "id": "rural-stevens",
        "outputId": "e2721732-bf11-4295-983e-7fb624faea3d"
      },
      "outputs": [
        {
          "output_type": "execute_result",
          "data": {
            "text/plain": [
              "['My', 'name', 'is', 'Ashutosh']"
            ]
          },
          "metadata": {},
          "execution_count": 37
        }
      ],
      "source": [
        "#Li6\n",
        "# WAP to concatenate two lists index-wise.\n",
        "# list1 = [\"M\", \"na\", \"i\", \"Ashu\"]\n",
        "# list2 = [\"y\", \"me\", \"s\", \"tosh\"]\n",
        "#     Output: ['My', 'name', 'is', 'Ashutosh']\n",
        "\n",
        "l1 = [\"M\", \"na\", \"i\", \"Ashu\"]\n",
        "l2 = [\"y\", \"me\", \"s\", \"tosh\"]\n",
        "l3=[]\n",
        "for i in range(len(l1)):\n",
        "  l3. append(l1[i]+l2[i])\n",
        "l3"
      ]
    },
    {
      "cell_type": "code",
      "execution_count": 42,
      "id": "accessory-switch",
      "metadata": {
        "colab": {
          "base_uri": "https://localhost:8080/"
        },
        "id": "accessory-switch",
        "outputId": "82a08e89-cbd9-430a-d7c1-bc33ecc208c4"
      },
      "outputs": [
        {
          "output_type": "execute_result",
          "data": {
            "text/plain": [
              "['Bran', 11, 33, 'Stark', 22, 33, 11]"
            ]
          },
          "metadata": {},
          "execution_count": 42
        }
      ],
      "source": [
        "#Li7\n",
        "# WAP to remove/delete items from a list while iterating without creating a duplicate list.\n",
        "# Take the elements to be deleted from the user in real-time.\n",
        "\n",
        "myList = [\"Bran\",11,22,33,\"Stark\",22,33,11]\n",
        " \n",
        "myList.remove(22)\n",
        " \n",
        "myList"
      ]
    },
    {
      "cell_type": "code",
      "execution_count": 59,
      "metadata": {
        "colab": {
          "base_uri": "https://localhost:8080/"
        },
        "id": "massive-bangladesh",
        "outputId": "0c8b6f42-cb70-4ca8-b5e1-5a8089b31700"
      },
      "outputs": [
        {
          "output_type": "stream",
          "name": "stdout",
          "text": [
            "Please, Enter the Lowest Range Value: 1\n",
            "Please, Enter the Upper Range Value: 5\n",
            "The Prime Numbers in the range are: \n",
            "[2]\n",
            "[2, 3]\n",
            "[2, 3, 5]\n"
          ]
        }
      ],
      "source": [
        "# #Li8\n",
        "# WAP to generate a Python list of all the prime numbers between n to m where n & m are taken as input from the user.\n",
        "# First, we will take the input:  \n",
        "lower_value = int(input (\"Please, Enter the Lowest Range Value: \"))  \n",
        "upper_value = int(input (\"Please, Enter the Upper Range Value: \"))  \n",
        "lst=[] \n",
        "print (\"The Prime Numbers in the range are: \")  \n",
        "for number in range (lower_value, upper_value + 1):  \n",
        "    if number > 1:  \n",
        "        for i in range (2, number):  \n",
        "            if (number % i) == 0: \n",
        "              break\n",
        "               \n",
        "        else:\n",
        "          lst.append(number)   \n",
        "          print(lst) \n"
      ],
      "id": "massive-bangladesh"
    },
    {
      "cell_type": "code",
      "execution_count": 71,
      "id": "active-terrace",
      "metadata": {
        "colab": {
          "base_uri": "https://localhost:8080/"
        },
        "id": "active-terrace",
        "outputId": "c32183aa-7945-44b6-91fa-7d1c4b97026d"
      },
      "outputs": [
        {
          "output_type": "stream",
          "name": "stdout",
          "text": [
            "('Hello Hi', 'Hello There', 'WorldHi', 'WorldThere')\n"
          ]
        }
      ],
      "source": [
        "2#Li9\n",
        "# WAP to concatenate two lists in the following order:\n",
        "#     list1 = [\"Hello \", \"World\"]\n",
        "#     list2 = [\"Hi\", \"There\"]\n",
        "#     Output: ['Hello Hi', 'Hello There', 'World Hi', 'World There']\n",
        "\n",
        "list1 = [\"Hello \", \"World\"]\n",
        "list2 = [\"Hi\", \"There\"]\n",
        "\n",
        "\n",
        "\n",
        "\n",
        "\n",
        "(print((list1[0]+list2[0],list1[0]+list2[1],list1[1]+list2[0],list1[1]+list2[1])))\n",
        "\n",
        "\n",
        "\n",
        "\n",
        "\n",
        "\n",
        "\n"
      ]
    },
    {
      "cell_type": "code",
      "execution_count": 77,
      "id": "documentary-labor",
      "metadata": {
        "colab": {
          "base_uri": "https://localhost:8080/"
        },
        "id": "documentary-labor",
        "outputId": "b8db9204-c989-40d2-d766-47557cb7900b"
      },
      "outputs": [
        {
          "output_type": "stream",
          "name": "stdout",
          "text": [
            "{'Ashutosh': 23, 'Ajay': 21, 'Alankrita': 26, 'Rachit': 23, 'Komal': 27, 'Anil': 24}\n"
          ]
        },
        {
          "output_type": "execute_result",
          "data": {
            "text/plain": [
              "26"
            ]
          },
          "metadata": {},
          "execution_count": 77
        }
      ],
      "source": [
        "# #Li10\n",
        "# Given two lists having names of students and their corrsponding marks.\n",
        "# names = [\"Ashutosh\", \"Ajay\", \"Alankrita\", \"Rachit\", \"Komal\", \"Anil\"]\n",
        "# marks = [23, 21, 26, 23, 27, 24]\n",
        "# Take name of a student as input from the user and output his/her marks.\n",
        "\n",
        "# For e.g.:\n",
        "#     Input1: \"Alankrita\"\n",
        "#     Output1: 26\n",
        "        \n",
        "#     Input2: \"Someone\"\n",
        "#     Output2: \"Student not found\"\n",
        "names = [\"Ashutosh\", \"Ajay\", \"Alankrita\", \"Rachit\", \"Komal\", \"Anil\"]\n",
        "marks = [23, 21, 26, 23, 27, 24]\n",
        "\n",
        "Grade = dict(zip(names, marks))\n",
        "print(Grade)\n",
        "\n",
        "Grade[\"Alankrita\"]"
      ]
    },
    {
      "cell_type": "code",
      "execution_count": 79,
      "id": "growing-burden",
      "metadata": {
        "colab": {
          "base_uri": "https://localhost:8080/"
        },
        "id": "growing-burden",
        "outputId": "412d5f7f-72c7-4b89-b507-169d8dcc029b"
      },
      "outputs": [
        {
          "output_type": "execute_result",
          "data": {
            "text/plain": [
              "[23, 25, 26, 23, 27, 24]"
            ]
          },
          "metadata": {},
          "execution_count": 79
        }
      ],
      "source": [
        "#Li11\n",
        "# Extended question of #Li10\n",
        "# Add an option to change marks of any students in the same code of #Li10. Take student name and new marks from the user. \n",
        "# Print the modified list as output.\n",
        "\n",
        "# For e.g.: Input: \"Ajay\"\n",
        "#         new_mark: 25\n",
        "#         Output: marks = [23, 25, 26, 23, 27, 24]\n",
        "\n",
        "\n",
        "names = [\"Ashutosh\", \"Ajay\", \"Alankrita\", \"Rachit\", \"Komal\", \"Anil\"]\n",
        "marks = [23, 21, 26, 23, 27, 24]\n",
        "\n",
        "names[1]=\"Ajay\"\n",
        "names\n",
        "marks[1]=25\n",
        "marks"
      ]
    },
    {
      "cell_type": "code",
      "execution_count": 80,
      "id": "celtic-coordinator",
      "metadata": {
        "colab": {
          "base_uri": "https://localhost:8080/"
        },
        "id": "celtic-coordinator",
        "outputId": "4b5f05b6-fbfa-4cdc-c2e6-0f5404c4a10a"
      },
      "outputs": [
        {
          "output_type": "stream",
          "name": "stdout",
          "text": [
            "['Ashutosh', 'Ajay', 'Alankrita', 'Rachit', 'Komal', 'Anil', 'Harshil']\n",
            "[23, 25, 26, 23, 27, 24, 20]\n"
          ]
        }
      ],
      "source": [
        "#Li12\n",
        "# Extended question of #Li10\n",
        "# Give an option to enter the marks of a new student into the existing lists names and marks. Take new data as input from user.\n",
        "# Print the new names and marks list as output.\n",
        "\n",
        "# For e.g.: Input: New_name = \"Harshil\"\n",
        "#                 new_Marks = 20\n",
        "#         Output: names = [\"Ashutosh\", \"Ajay\", \"Alankrita\", \"Rachit\", \"Komal\", \"Anil\", \"Harshil\"]\n",
        "#                 marks = [23, 21, 26, 23, 27, 24, 20]\n",
        "\n",
        "names = [\"Ashutosh\", \"Ajay\", \"Alankrita\", \"Rachit\", \"Komal\", \"Anil\"]\n",
        "marks = [23, 21, 26, 23, 27, 24]\n",
        "\n",
        "names[1]=\"Ajay\"\n",
        "names.append(\"Harshil\")\n",
        "marks[1]=25\n",
        "marks.append(20)\n",
        "print(names)\n",
        "print(marks)"
      ]
    },
    {
      "cell_type": "code",
      "execution_count": null,
      "id": "innovative-garage",
      "metadata": {
        "id": "innovative-garage"
      },
      "outputs": [],
      "source": []
    },
    {
      "cell_type": "markdown",
      "id": "noble-rogers",
      "metadata": {
        "id": "noble-rogers"
      },
      "source": [
        "### Dictionary Questions"
      ]
    },
    {
      "cell_type": "code",
      "execution_count": 81,
      "id": "disturbed-stream",
      "metadata": {
        "colab": {
          "base_uri": "https://localhost:8080/"
        },
        "id": "disturbed-stream",
        "outputId": "8292e939-d552-46c2-fd58-b1194c92b59e"
      },
      "outputs": [
        {
          "output_type": "stream",
          "name": "stdout",
          "text": [
            "{1: 10, 2: 20, 3: 30, 4: 40, 5: 50, 6: 60}\n"
          ]
        }
      ],
      "source": [
        "#D1\n",
        "# WAP in Python to merge following dictionaries to create a new one:\n",
        "d1={1:10, 2:20}\n",
        "d2={3:30, 4:40}\n",
        "d3={5:50, 6:60}\n",
        "\n",
        "d4 = {**d1, **d2,**d3}\n",
        "\n",
        "print(d4)"
      ]
    },
    {
      "cell_type": "code",
      "execution_count": 82,
      "id": "lyric-illinois",
      "metadata": {
        "colab": {
          "base_uri": "https://localhost:8080/"
        },
        "id": "lyric-illinois",
        "outputId": "bf5b7f75-5565-402a-89e6-51dad0bb28cb"
      },
      "outputs": [
        {
          "output_type": "stream",
          "name": "stdout",
          "text": [
            "Input a number 4\n",
            "{1: 1, 2: 4, 3: 9, 4: 16}\n"
          ]
        }
      ],
      "source": [
        "#D2\n",
        "# WAP in python to generate and print a dictionary that contains a number (between 1 and n) \n",
        "# in the form {x : x*x} where n is the input from the user.\n",
        "\n",
        "# For e.g. Input: 4\n",
        "#         Output: {1:1, 2:4, 3:9, 4:16}\n",
        "\n",
        "\n",
        "n=int(input(\"Input a number \"))\n",
        "d = dict()\n",
        "\n",
        "for x in range(1,n+1):\n",
        "    d[x]=x*x\n",
        "\n",
        "print(d)\n",
        "\n"
      ]
    },
    {
      "cell_type": "code",
      "execution_count": null,
      "id": "roman-orleans",
      "metadata": {
        "id": "roman-orleans"
      },
      "outputs": [],
      "source": [
        "# #D3\n",
        "# WAP in python to find the number of vowels, consonants, digits, white space characters & \n",
        "# special characters in a string and save the result in the form of a dictionary.\n",
        "\n",
        "\n"
      ]
    },
    {
      "cell_type": "code",
      "execution_count": 83,
      "id": "administrative-tunisia",
      "metadata": {
        "colab": {
          "base_uri": "https://localhost:8080/"
        },
        "id": "administrative-tunisia",
        "outputId": "421e2afe-bb3a-4b76-c18c-7cd91c3e1729"
      },
      "outputs": [
        {
          "output_type": "stream",
          "name": "stdout",
          "text": [
            "The input dictionary is:\n",
            "{'A': 65, 'B': 66, 'C': 67, 'D': 68}\n",
            "The reversed dictionary is:\n",
            "{65: 'A', 66: 'B', 67: 'C', 68: 'D'}\n"
          ]
        }
      ],
      "source": [
        "#D4\n",
        "# WAP to reverse map the dictionary items. Take dictionary as input from the user.\n",
        "\n",
        "# \tFor eg., Input: d = {'A': 65, 'B': 66, 'C': 67, 'D': 68}\n",
        "#             Output: d = {65: 'A', 66: 'B', 67: 'C', 68: 'D'}\n",
        "\n",
        "myDict = {'A': 65, 'B': 66, 'C': 67, 'D': 68}\n",
        "print(\"The input dictionary is:\")\n",
        "print(myDict)\n",
        "reversedDict = dict()\n",
        "for key in myDict:\n",
        "    val = myDict[key]\n",
        "    reversedDict[val] = key\n",
        "print(\"The reversed dictionary is:\")\n",
        "print(reversedDict)\n"
      ]
    },
    {
      "cell_type": "code",
      "execution_count": 85,
      "id": "empirical-effort",
      "metadata": {
        "colab": {
          "base_uri": "https://localhost:8080/"
        },
        "id": "empirical-effort",
        "outputId": "e29e136a-2a92-4c9e-a358-a80e05192ed0"
      },
      "outputs": [
        {
          "output_type": "stream",
          "name": "stdout",
          "text": [
            "Please input a username: Rushi\n",
            "Plesse input a Password: 12345\n",
            "{'Rushi': '12345'}\n"
          ]
        }
      ],
      "source": [
        "#D5\n",
        "# WAP to save Username and Password of 10 employees in an organisation. \n",
        "# Take the Username and Password as input from the user one by one and save in the Dictionary.\n",
        "k=input(\"Please input a username: \") \n",
        "v=input(\"Plesse input a Password: \") \n",
        "D={k:v} \n",
        "print(D)\n"
      ]
    },
    {
      "cell_type": "code",
      "execution_count": 86,
      "id": "driven-glossary",
      "metadata": {
        "colab": {
          "base_uri": "https://localhost:8080/"
        },
        "id": "driven-glossary",
        "outputId": "144ec27d-1958-4148-be41-24a11b5633bb"
      },
      "outputs": [
        {
          "output_type": "stream",
          "name": "stdout",
          "text": [
            "Please input a username: Rushi\n",
            "Plesse input a Password: 1234\n",
            "{'Rushi': '1234'}\n",
            "Employee is Present\n"
          ]
        }
      ],
      "source": [
        "#D6\n",
        "# Extended Question from #D5\n",
        "# Write an additional functionality to check if an employee is present in the organisation or not.\n",
        "# Basically \"Search\" Functionality based on their username\n",
        "# Take employee name as input from the user.\n",
        "# If the employee is present, print \"Present\" else print \"Not Present\"\n",
        "\n",
        "k=input(\"Please input a username: \") \n",
        "v=input(\"Plesse input a Password: \") \n",
        "D={k:v} \n",
        "print(D)\n",
        "if k==\"Rushi\":\n",
        "  print(\"Employee is Present\")\n",
        "else:\n",
        "  print(\"Employee is not Present\")"
      ]
    },
    {
      "cell_type": "markdown",
      "id": "heated-announcement",
      "metadata": {
        "id": "heated-announcement"
      },
      "source": [
        "### Misc. Questions - i.e. you can use any data type which seems feasible for question"
      ]
    },
    {
      "cell_type": "code",
      "execution_count": 89,
      "id": "pursuant-confidentiality",
      "metadata": {
        "colab": {
          "base_uri": "https://localhost:8080/"
        },
        "id": "pursuant-confidentiality",
        "outputId": "1fcd7d65-5500-4f3a-fc6e-7ff554468ea2"
      },
      "outputs": [
        {
          "output_type": "stream",
          "name": "stdout",
          "text": [
            "Enter a first integer: 5\n",
            "Enter a Second integer: 10\n",
            "725\n"
          ]
        }
      ],
      "source": [
        "#M1\n",
        "# WAP in python that accepts two integers (n) & (m) from user and \n",
        "# computes the value of 2n3 + 5m2 - 7n + 10\n",
        "\n",
        "\n",
        "n=int(input(\"Enter a first integer: \"))\n",
        "m=int(input(\"Enter a Second integer: \"))\n",
        "\n",
        "Expression=2*n*n*n +5*m*m - 7*n + 10\n",
        "\n",
        "print(Expression)\n",
        "\n",
        "\n",
        "\n"
      ]
    },
    {
      "cell_type": "code",
      "execution_count": 94,
      "id": "different-pilot",
      "metadata": {
        "colab": {
          "base_uri": "https://localhost:8080/"
        },
        "id": "different-pilot",
        "outputId": "acea92ab-87bd-4279-eeda-a9cf7182b58c"
      },
      "outputs": [
        {
          "output_type": "stream",
          "name": "stdout",
          "text": [
            "{66, 90, 11, 54, 58, 28, 31}\n"
          ]
        }
      ],
      "source": [
        "# #M2\n",
        "# Write a python program to find the intersection of elements from two list \n",
        "# (find the common elements in two lists).\n",
        "\n",
        "def intersection_list(list1, list2):  \n",
        "   return set(list1).intersection(list2)  \n",
        "  \n",
        "list1 = [40, 90, 11, 58, 31, 66, 28, 54, 79]  \n",
        "list2 = [58, 90, 54, 31, 45, 11, 66, 28, 26]  \n",
        "  \n",
        "print(intersection_list(list1, list2))  "
      ]
    },
    {
      "cell_type": "code",
      "execution_count": 98,
      "id": "inner-american",
      "metadata": {
        "colab": {
          "base_uri": "https://localhost:8080/"
        },
        "id": "inner-american",
        "outputId": "bc3f5c77-b667-4093-c210-36f9704320df"
      },
      "outputs": [
        {
          "output_type": "stream",
          "name": "stdout",
          "text": [
            "How many numbers: 5\n",
            "Enter number 52\n",
            "Enter number 23\n",
            "Enter number 85\n",
            "Enter number 66\n",
            "Enter number 99\n",
            "Largest element is: 99\n"
          ]
        }
      ],
      "source": [
        "#M3\n",
        "# WAP in Python to find the Max of n numbers all taken as input from the user.\n",
        "\n",
        "lst = []\n",
        "\n",
        "num = int(input('How many numbers: '))\n",
        "\n",
        "for n in range(num):\n",
        "    numbers = int(input('Enter number '))\n",
        "    lst.append(numbers)\n",
        "    \n",
        "lst.sort()\n",
        " \n",
        "# printing the last element\n",
        "print(\"Largest element is:\", lst[-1])\n"
      ]
    },
    {
      "cell_type": "code",
      "execution_count": 99,
      "id": "pointed-consensus",
      "metadata": {
        "colab": {
          "base_uri": "https://localhost:8080/"
        },
        "id": "pointed-consensus",
        "outputId": "a03847e0-e0d2-4629-8fb1-7e8298d497ac"
      },
      "outputs": [
        {
          "output_type": "stream",
          "name": "stdout",
          "text": [
            "True\n",
            "False\n"
          ]
        }
      ],
      "source": [
        "5#M4\n",
        "# WAP which takes a sequence of numbers from the user and check if all input numbers are unique.\n",
        "\n",
        "def test_distinct(data):\n",
        "  if len(data) == len(set(data)):\n",
        "    return True\n",
        "  else:\n",
        "    return False;\n",
        "print(test_distinct([1,5,7,9]))\n",
        "print(test_distinct([2,4,5,5,7,9]))\n"
      ]
    },
    {
      "cell_type": "code",
      "execution_count": 100,
      "id": "broadband-christmas",
      "metadata": {
        "colab": {
          "base_uri": "https://localhost:8080/"
        },
        "id": "broadband-christmas",
        "outputId": "b148f999-f074-4971-8f75-d505805e15f7"
      },
      "outputs": [
        {
          "output_type": "stream",
          "name": "stdout",
          "text": [
            "Enter number: 105320\n",
            "Reverse of the number: 23501\n"
          ]
        }
      ],
      "source": [
        "#M5\n",
        "# WAP to reverse a given integer number.\n",
        "# Example: Input: 105320\n",
        "#         Output: 023501\n",
        "\n",
        "\n",
        "n=int(input(\"Enter number: \"))\n",
        "rev=0\n",
        "while(n>0):\n",
        "    dig=n%10\n",
        "    rev=rev*10+dig\n",
        "    n=n//10\n",
        "print(\"Reverse of the number:\",rev)\n"
      ]
    },
    {
      "cell_type": "code",
      "execution_count": 107,
      "id": "canadian-latino",
      "metadata": {
        "colab": {
          "base_uri": "https://localhost:8080/"
        },
        "id": "canadian-latino",
        "outputId": "4a39bc8f-6804-4406-e0b2-38d495e65b4f"
      },
      "outputs": [
        {
          "output_type": "stream",
          "name": "stdout",
          "text": [
            "How many numbers: 10\n",
            "Enter number 1\n",
            "Enter number 2\n",
            "Enter number 3\n",
            "Enter number 4\n",
            "Enter number 5\n",
            "Enter number 6\n",
            "Enter number 7\n",
            "Enter number 8\n",
            "Enter number 9\n",
            "Enter number 10\n",
            "[1, 2, 3, 4, 5, 6, 7, 8, 9, 10]\n",
            "[1, 3, 5, 7, 9]\n",
            "[2, 4, 6, 8, 10]\n"
          ]
        }
      ],
      "source": [
        "#M6\n",
        "\n",
        "lst = []\n",
        "\n",
        "num = int(input('How many numbers: '))\n",
        "\n",
        "for n in range(num):\n",
        "    numbers = int(input('Enter number '))\n",
        "    lst.append(numbers)\n",
        "\n",
        "print(lst)\n",
        "\n",
        "l1=lst[::2]\n",
        "print(l1)\n",
        "l2=lst[1:11:2]\n",
        "print(l2)"
      ]
    },
    {
      "cell_type": "code",
      "execution_count": 108,
      "id": "unique-account",
      "metadata": {
        "colab": {
          "base_uri": "https://localhost:8080/"
        },
        "id": "unique-account",
        "outputId": "a6dfd772-2acd-4421-9c91-a750afd8f0fb"
      },
      "outputs": [
        {
          "output_type": "stream",
          "name": "stdout",
          "text": [
            "Enter temperature in fahrenheit: 32\n",
            "32.0 degree Fahrenheit is equal to 0.0 degree Celsius.\n"
          ]
        }
      ],
      "source": [
        "34#M7\n",
        "# WAP to convert temperature in Fahrenheit to Celsius. Take the temperature from the user in float type.\n",
        "fahrenheit = float(input(\"Enter temperature in fahrenheit: \"))\n",
        "celsius = (fahrenheit - 32)/1.8\n",
        "print(str(fahrenheit )+ \" degree Fahrenheit is equal to \" + str(celsius ) + \" degree Celsius.\" )\n"
      ]
    },
    {
      "cell_type": "code",
      "execution_count": 112,
      "id": "primary-stocks",
      "metadata": {
        "colab": {
          "base_uri": "https://localhost:8080/"
        },
        "id": "primary-stocks",
        "outputId": "ee746307-81a7-4f94-9d84-c0e330f57302"
      },
      "outputs": [
        {
          "output_type": "stream",
          "name": "stdout",
          "text": [
            "Enter the Maximum: 5\n",
            "Enter the key: English\n",
            "Enter the value: 52\n",
            "Enter the key: hindi\n",
            "Enter the value: 89\n",
            "Enter the key: marathi\n",
            "Enter the value: 88\n",
            "Enter the key: science\n",
            "Enter the value: 56\n",
            "Enter the key: history\n",
            "Enter the value: 86\n",
            "::: {'English': '52', 'hindi': '89', 'marathi': '88', 'science': '56', 'history': '86'}\n"
          ]
        }
      ],
      "source": [
        "# #M8\n",
        "# WAP to continuously take Names as input from the user. \n",
        "# Save the incoming names into a list as Full Name and save {First Name:Second Name} in a dictionary.\n",
        "# Take inputs till the user enters \"Stop\"\n",
        "\n",
        "# For e.g.: Input: \"Shahrukh Khan\", \"Gauri Khan\",...................\"Stop\"\n",
        "#          Output: list1 = [\"Shahrukh Khan\", \"Gauri Khan\",....................]\n",
        "#                 dict1 = {\"Shahrukh\":\"Khan\", \"Gauri\":\"Khan\", .....................}\n",
        "\n",
        "\n",
        "Student = {} #the Dictionary\n",
        "\n",
        "maximum = int (input(\"Enter the Maximum: \"))\n",
        "\n",
        "for i in range(0,maximum):\n",
        "\n",
        "  key = input(\"Enter the key: \")\n",
        "\n",
        "  value = input(\"Enter the value: \")\n",
        "\n",
        "  Student[key]=value\n",
        "\n",
        "print(\":::\",Student)"
      ]
    },
    {
      "cell_type": "code",
      "execution_count": 113,
      "id": "sunrise-sculpture",
      "metadata": {
        "colab": {
          "base_uri": "https://localhost:8080/"
        },
        "id": "sunrise-sculpture",
        "outputId": "2ce857b6-6cce-457f-efd1-41864d5d539a"
      },
      "outputs": [
        {
          "output_type": "stream",
          "name": "stdout",
          "text": [
            "Enter amount: 5000\n",
            "Enter time: 5\n",
            "Enter rate: 5\n",
            "Simple interest is: 1250.000000\n",
            "Compound interest is: 1381.407813\n"
          ]
        }
      ],
      "source": [
        "#M9\n",
        "# WAP to make a simple and compound interest calculator. Take all the necessary data as input from the user.\n",
        "\n",
        "\n",
        "# Reading principal amount, rate and time\n",
        "principal = float(input('Enter amount: '))\n",
        "time = float(input('Enter time: '))\n",
        "rate = float(input('Enter rate: '))\n",
        "\n",
        "# Calcualtion\n",
        "simple_interest = (principal*time*rate)/100\n",
        "compound_interest = principal * ( (1+rate/100)**time - 1)\n",
        "\n",
        "# Displaying result\n",
        "print('Simple interest is: %f' % (simple_interest))\n",
        "print('Compound interest is: %f' %(compound_interest))\n"
      ]
    },
    {
      "cell_type": "code",
      "execution_count": null,
      "id": "tired-tower",
      "metadata": {
        "id": "tired-tower"
      },
      "outputs": [],
      "source": []
    },
    {
      "cell_type": "code",
      "execution_count": null,
      "id": "secret-wiring",
      "metadata": {
        "id": "secret-wiring"
      },
      "outputs": [],
      "source": []
    },
    {
      "cell_type": "code",
      "execution_count": null,
      "id": "narrow-nelson",
      "metadata": {
        "id": "narrow-nelson"
      },
      "outputs": [],
      "source": []
    },
    {
      "cell_type": "code",
      "execution_count": null,
      "id": "intermediate-asbestos",
      "metadata": {
        "id": "intermediate-asbestos"
      },
      "outputs": [],
      "source": []
    }
  ],
  "metadata": {
    "kernelspec": {
      "display_name": "Python 3",
      "language": "python",
      "name": "python3"
    },
    "language_info": {
      "codemirror_mode": {
        "name": "ipython",
        "version": 3
      },
      "file_extension": ".py",
      "mimetype": "text/x-python",
      "name": "python",
      "nbconvert_exporter": "python",
      "pygments_lexer": "ipython3",
      "version": "3.9.1"
    },
    "colab": {
      "provenance": []
    }
  },
  "nbformat": 4,
  "nbformat_minor": 5
}