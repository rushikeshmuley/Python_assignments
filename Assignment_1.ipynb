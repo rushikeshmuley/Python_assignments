{
 "cells": [
  {
   "cell_type": "code",
   "execution_count": 1,
   "id": "0417a497",
   "metadata": {},
   "outputs": [],
   "source": [
    "# WAP to take 10 numbers from a user and store them in a list"
   ]
  },
  {
   "cell_type": "code",
   "execution_count": 2,
   "id": "27a181e3",
   "metadata": {},
   "outputs": [
    {
     "name": "stdout",
     "output_type": "stream",
     "text": [
      "total numbers taken as a input:10\n",
      "enter a numbers:12\n",
      "enter a numbers:45\n",
      "enter a numbers:8\n",
      "enter a numbers:45\n",
      "enter a numbers:25\n",
      "enter a numbers:23\n",
      "enter a numbers:23\n",
      "enter a numbers:23\n",
      "enter a numbers:66\n",
      "enter a numbers:33\n",
      "[12, 45, 8, 45, 25, 23, 23, 23, 66, 33]\n"
     ]
    }
   ],
   "source": [
    "lst=[]\n",
    "n=int(input(\"total numbers taken as a input:\"))\n",
    "\n",
    "for i in range(0,n):\n",
    "    number=int(input(\"enter a numbers:\"))\n",
    "    lst.append(number)\n",
    "print(lst)"
   ]
  },
  {
   "cell_type": "code",
   "execution_count": 3,
   "id": "45a8777c",
   "metadata": {},
   "outputs": [],
   "source": [
    "# Display numbers divisible by 5 from a list"
   ]
  },
  {
   "cell_type": "code",
   "execution_count": 5,
   "id": "8615104a",
   "metadata": {},
   "outputs": [
    {
     "name": "stdout",
     "output_type": "stream",
     "text": [
      "10 15 20 50 "
     ]
    }
   ],
   "source": [
    "lst=[12,10,15,20,46,50]\n",
    "\n",
    "for i in lst:\n",
    "    if i%5==0:\n",
    "        print(i,end=\" \")"
   ]
  },
  {
   "cell_type": "code",
   "execution_count": 6,
   "id": "8cee178e",
   "metadata": {},
   "outputs": [],
   "source": [
    "# 3 :WAP to calculate the count of elements in a string taken as input from the user."
   ]
  },
  {
   "cell_type": "code",
   "execution_count": 8,
   "id": "c6185086",
   "metadata": {},
   "outputs": [
    {
     "name": "stdout",
     "output_type": "stream",
     "text": [
      "enter a string:Rushikesh\n",
      "9\n"
     ]
    }
   ],
   "source": [
    "string=input(\"enter a string:\")\n",
    "\n",
    "count=len(string)\n",
    "print(count)\n"
   ]
  },
  {
   "cell_type": "code",
   "execution_count": 9,
   "id": "cf4f10bf",
   "metadata": {},
   "outputs": [],
   "source": [
    "# 4: WAP to check if a number is even or odd where number is taken as input."
   ]
  },
  {
   "cell_type": "code",
   "execution_count": 10,
   "id": "2b2f498a",
   "metadata": {},
   "outputs": [
    {
     "name": "stdout",
     "output_type": "stream",
     "text": [
      "enter a number: 12\n",
      "number is even number\n"
     ]
    }
   ],
   "source": [
    "number=int(input(\"enter a number: \"))\n",
    "\n",
    "if number%2 ==0:\n",
    "    print(\"number is even number\")\n",
    "else:\n",
    "    print(\"number is odd number\")"
   ]
  },
  {
   "cell_type": "code",
   "execution_count": 11,
   "id": "5ea8fbb3",
   "metadata": {},
   "outputs": [],
   "source": [
    "# 5:WAP to reverse a string taken as input from the user"
   ]
  },
  {
   "cell_type": "code",
   "execution_count": 13,
   "id": "821bb765",
   "metadata": {},
   "outputs": [
    {
     "name": "stdout",
     "output_type": "stream",
     "text": [
      "enter a string: Rushi\n",
      "ihsuR\n"
     ]
    }
   ],
   "source": [
    "s=input(\"enter a string: \")\n",
    "rev_string=s[::-1]\n",
    "\n",
    "print(rev_string)\n"
   ]
  },
  {
   "cell_type": "code",
   "execution_count": 14,
   "id": "abe943f6",
   "metadata": {},
   "outputs": [],
   "source": [
    "# 6:WAP to reverse all the strings present in a list and save them in a new list."
   ]
  },
  {
   "cell_type": "code",
   "execution_count": 15,
   "id": "d8bc3f4f",
   "metadata": {},
   "outputs": [
    {
     "name": "stdout",
     "output_type": "stream",
     "text": [
      "['ihsuR', 'yeluM', 'peoc', 'cenj', 'APG']\n"
     ]
    }
   ],
   "source": [
    "lst=[]\n",
    "lst1=[\"Rushi\",\"Muley\",\"coep\",\"jnec\",\"GPA\"]\n",
    "for i in lst1:\n",
    "    rev_string=i[::-1]\n",
    "    lst.append(rev_string)\n",
    "    \n",
    "print(lst)"
   ]
  },
  {
   "cell_type": "code",
   "execution_count": 16,
   "id": "ccf795cf",
   "metadata": {},
   "outputs": [],
   "source": [
    "# 7: Print characters from a string that are present at an even index number"
   ]
  },
  {
   "cell_type": "code",
   "execution_count": 21,
   "id": "8ef6e4bb",
   "metadata": {},
   "outputs": [
    {
     "name": "stdout",
     "output_type": "stream",
     "text": [
      "rsiehue\n"
     ]
    }
   ],
   "source": [
    "S=\"rushikeshmuley\"\n",
    "S_even=S[::2]\n",
    "print(S_even)"
   ]
  },
  {
   "cell_type": "code",
   "execution_count": 26,
   "id": "51908ad9",
   "metadata": {},
   "outputs": [
    {
     "name": "stdout",
     "output_type": "stream",
     "text": [
      "first and last number of a list is the same\n"
     ]
    }
   ],
   "source": [
    "# 8 :Check if the first and last number of a list is the same\n",
    "\n",
    "lst=[1,2,3,4,5,7,1]\n",
    "if(lst[0]==lst[6]):\n",
    "        print(\"first and last number of a list is the same\")\n",
    "else:\n",
    "        print(\"not same\")"
   ]
  },
  {
   "cell_type": "code",
   "execution_count": 27,
   "id": "1ae72204",
   "metadata": {},
   "outputs": [],
   "source": [
    "# 9 Calculate income tax for the input income by adhering to the Indian rules."
   ]
  },
  {
   "cell_type": "code",
   "execution_count": 29,
   "id": "d3d94b34",
   "metadata": {},
   "outputs": [
    {
     "name": "stdout",
     "output_type": "stream",
     "text": [
      "enter your annual income: 250000\n",
      "you owe 0 Rupees in tax!\n"
     ]
    }
   ],
   "source": [
    "\n",
    "income=int(input(\"enter your annual income: \"))\n",
    "\n",
    "if income <= 250000:  #2 Lakh 50 thousand\n",
    "    tax = 0\n",
    "\n",
    "elif income <= 500000: #5 Lakh\n",
    "    tax = (income - 250000) * 0.05\n",
    "\n",
    "elif income <= 750000: #7 lakh 50 thousand\n",
    "    tax = (income - 500000) * 0.10 + 12500 \n",
    "\n",
    "elif income <= 1000000: #10 Lakh\n",
    "    tax = (income - 750000) * 0.15 + 37500 \n",
    "\n",
    "elif income <= 1250000: #12 lakh 50 thousand\n",
    "    tax = (income - 1000000) * 0.20 + 75000 \n",
    "\n",
    "elif income <= 1500000: #15 lakh\n",
    "    tax = (income - 1250000) * 0.25 + 125000 \n",
    "\n",
    "else:\n",
    "    tax = (income - 1500000) * 0.30 + 187500\n",
    "\n",
    "print(\"you owe\", tax, \"Rupees in tax!\")"
   ]
  },
  {
   "cell_type": "code",
   "execution_count": 30,
   "id": "95d01f70",
   "metadata": {},
   "outputs": [],
   "source": [
    "# 10:Write a Python program to check whether a string starts with vowel or not.\n"
   ]
  },
  {
   "cell_type": "code",
   "execution_count": 32,
   "id": "12545290",
   "metadata": {},
   "outputs": [
    {
     "name": "stdout",
     "output_type": "stream",
     "text": [
      "string starts with vowel\n"
     ]
    }
   ],
   "source": [
    "S=\"ushikeshmuley\"\n",
    "vowel=\"aeiouAEIOU\"\n",
    "if(S[0] in vowel):\n",
    "    print(\"string starts with vowel\")\n",
    "else:\n",
    "    print(\"string not starts with vowel\")"
   ]
  },
  {
   "cell_type": "code",
   "execution_count": 33,
   "id": "cf32e0d3",
   "metadata": {},
   "outputs": [],
   "source": [
    "# 11:Write a Python program to check if all the characters of a string are vowel or not."
   ]
  },
  {
   "cell_type": "code",
   "execution_count": 35,
   "id": "879ae29b",
   "metadata": {},
   "outputs": [
    {
     "name": "stdout",
     "output_type": "stream",
     "text": [
      "Yes, Rushikesh contains a vowel.\n"
     ]
    }
   ],
   "source": [
    "s=\"Rushikesh\"\n",
    "if any(char in 'aeiou' for char in s):\n",
    "    print(\"Yes,\", s, \"contains a vowel.\")\n",
    "else:\n",
    "    print(\"No,\", s, \"contains no vowels.\")"
   ]
  },
  {
   "cell_type": "code",
   "execution_count": 36,
   "id": "4cc696c3",
   "metadata": {},
   "outputs": [],
   "source": [
    "# 12.WAP to calculate percentage of a student through 5 subjects. Take marks as input from the user."
   ]
  },
  {
   "cell_type": "code",
   "execution_count": 38,
   "id": "673e713b",
   "metadata": {},
   "outputs": [
    {
     "name": "stdout",
     "output_type": "stream",
     "text": [
      "total numbers taken as a input:5\n",
      "enter a subject marks:45\n",
      "enter a subject marks:85\n",
      "enter a subject marks:89\n",
      "enter a subject marks:56\n",
      "enter a subject marks:78\n",
      "[45, 85, 89, 56, 78]\n"
     ]
    }
   ],
   "source": [
    "lst=[]\n",
    "n=int(input(\"total numbers taken as a input:\"))\n",
    "\n",
    "for i in range(0,n):\n",
    "    sub_marks=int(input(\"enter a subject marks:\"))\n",
    "    lst.append(sub_marks)\n",
    "print(lst)"
   ]
  },
  {
   "cell_type": "code",
   "execution_count": 40,
   "id": "15e36515",
   "metadata": {},
   "outputs": [
    {
     "data": {
      "text/plain": [
       "5"
      ]
     },
     "execution_count": 40,
     "metadata": {},
     "output_type": "execute_result"
    }
   ],
   "source": [
    "len(lst)"
   ]
  },
  {
   "cell_type": "code",
   "execution_count": 41,
   "id": "8e0f6524",
   "metadata": {},
   "outputs": [],
   "source": [
    "percentage_of_a_student=(45+85+89+56+78)/5"
   ]
  },
  {
   "cell_type": "code",
   "execution_count": 42,
   "id": "09481fd0",
   "metadata": {},
   "outputs": [
    {
     "data": {
      "text/plain": [
       "70.6"
      ]
     },
     "execution_count": 42,
     "metadata": {},
     "output_type": "execute_result"
    }
   ],
   "source": [
    "percentage_of_a_student"
   ]
  },
  {
   "cell_type": "code",
   "execution_count": 44,
   "id": "d6e02f08",
   "metadata": {},
   "outputs": [],
   "source": [
    "#13 WAP to convert '95.3' taken as input from the user into float value.\n"
   ]
  },
  {
   "cell_type": "code",
   "execution_count": 52,
   "id": "da338e7d",
   "metadata": {},
   "outputs": [
    {
     "name": "stdout",
     "output_type": "stream",
     "text": [
      "enter a number: 95.3\n"
     ]
    }
   ],
   "source": [
    "number=float(input(\"enter a number: \"))\n"
   ]
  },
  {
   "cell_type": "code",
   "execution_count": 53,
   "id": "abda2a8e",
   "metadata": {},
   "outputs": [],
   "source": [
    "# WAP to count the number of zeroes present in a number taken as input from the user."
   ]
  },
  {
   "cell_type": "code",
   "execution_count": 71,
   "id": "c1d1cbe5",
   "metadata": {},
   "outputs": [
    {
     "name": "stdout",
     "output_type": "stream",
     "text": [
      "enter a number: 1005\n"
     ]
    }
   ],
   "source": [
    "number=(input(\"enter a number: \"))\n"
   ]
  },
  {
   "cell_type": "code",
   "execution_count": 72,
   "id": "becd2213",
   "metadata": {},
   "outputs": [
    {
     "name": "stdout",
     "output_type": "stream",
     "text": [
      "None\n",
      "None\n",
      "None\n",
      "None\n",
      "['1', '0', '0', '5']\n"
     ]
    }
   ],
   "source": [
    "lst=[]\n",
    "for i in number:\n",
    "    print(lst.append(i))\n",
    "print(lst)"
   ]
  },
  {
   "cell_type": "code",
   "execution_count": 73,
   "id": "107a4d97",
   "metadata": {},
   "outputs": [
    {
     "data": {
      "text/plain": [
       "2"
      ]
     },
     "execution_count": 73,
     "metadata": {},
     "output_type": "execute_result"
    }
   ],
   "source": [
    "lst.count('0')"
   ]
  },
  {
   "cell_type": "code",
   "execution_count": 74,
   "id": "700c3e6d",
   "metadata": {},
   "outputs": [],
   "source": [
    "# 15WAP to calculate the surface area of a triangle. Take the required values as input.\n"
   ]
  },
  {
   "cell_type": "code",
   "execution_count": 76,
   "id": "a3304538",
   "metadata": {},
   "outputs": [
    {
     "name": "stdout",
     "output_type": "stream",
     "text": [
      "enter a breath: 12\n",
      "enter a height: 41\n"
     ]
    }
   ],
   "source": [
    "b=int(input(\"enter a breath: \"))\n",
    "h=int(input(\"enter a height: \"))"
   ]
  },
  {
   "cell_type": "code",
   "execution_count": 77,
   "id": "cce8bd2e",
   "metadata": {},
   "outputs": [],
   "source": [
    "area=(1/2)*b*h"
   ]
  },
  {
   "cell_type": "code",
   "execution_count": 78,
   "id": "1ab04964",
   "metadata": {},
   "outputs": [
    {
     "data": {
      "text/plain": [
       "246.0"
      ]
     },
     "execution_count": 78,
     "metadata": {},
     "output_type": "execute_result"
    }
   ],
   "source": [
    "area"
   ]
  },
  {
   "cell_type": "code",
   "execution_count": 79,
   "id": "6f4719ce",
   "metadata": {},
   "outputs": [],
   "source": [
    "# 16WAP to concatenate two lists index-wise and save the result in a 3rd list."
   ]
  },
  {
   "cell_type": "code",
   "execution_count": 80,
   "id": "1d36d884",
   "metadata": {},
   "outputs": [],
   "source": [
    "lst=[1,2,3]\n",
    "lst1=[2,4,5]"
   ]
  },
  {
   "cell_type": "code",
   "execution_count": 82,
   "id": "3b297301",
   "metadata": {},
   "outputs": [],
   "source": [
    "lst2=lst+lst1"
   ]
  },
  {
   "cell_type": "code",
   "execution_count": 83,
   "id": "eb5f73de",
   "metadata": {},
   "outputs": [
    {
     "data": {
      "text/plain": [
       "[1, 2, 3, 2, 4, 5]"
      ]
     },
     "execution_count": 83,
     "metadata": {},
     "output_type": "execute_result"
    }
   ],
   "source": [
    "lst2"
   ]
  },
  {
   "cell_type": "code",
   "execution_count": 85,
   "id": "81328195",
   "metadata": {},
   "outputs": [],
   "source": [
    "# # 17 WAP to convert two lists into a dictionary. Take the elements from first list as keys\n",
    "# and elements from second list as values.\n"
   ]
  },
  {
   "cell_type": "code",
   "execution_count": 86,
   "id": "2ee28de7",
   "metadata": {},
   "outputs": [
    {
     "name": "stdout",
     "output_type": "stream",
     "text": [
      "List of K :  ['Mon', 'Tue', 'Wed']\n",
      "list of V :  [3, 6, 5]\n",
      "Dictionary from lists :\n",
      "  {'Mon': 3, 'Tue': 6, 'Wed': 5}\n"
     ]
    }
   ],
   "source": [
    "listK = [\"Mon\", \"Tue\", \"Wed\"]\n",
    "listV = [3, 6, 5]\n",
    "# Given lists\n",
    "print(\"List of K : \", listK)\n",
    "print(\"list of V : \", listV)\n",
    "# COnvert to dictionary\n",
    "res = dict(zip(listK, listV))\n",
    "print(\"Dictionary from lists :\\n \",res)"
   ]
  },
  {
   "cell_type": "code",
   "execution_count": 87,
   "id": "20388fd3",
   "metadata": {},
   "outputs": [],
   "source": [
    "# Input and store the marks of 10 students in a list. Print max and min marks.\n"
   ]
  },
  {
   "cell_type": "code",
   "execution_count": 88,
   "id": "a4332e61",
   "metadata": {},
   "outputs": [
    {
     "name": "stdout",
     "output_type": "stream",
     "text": [
      "total numbers taken as a input:10\n",
      "enter a marks:45\n",
      "enter a marks:85\n",
      "enter a marks:85\n",
      "enter a marks:66\n",
      "enter a marks:96\n",
      "enter a marks:56\n",
      "enter a marks:78\n",
      "enter a marks:55\n",
      "enter a marks:99\n",
      "enter a marks:100\n",
      "[45, 85, 85, 66, 96, 56, 78, 55, 99, 100]\n"
     ]
    }
   ],
   "source": [
    "lst=[]\n",
    "n=int(input(\"total numbers taken as a input:\"))\n",
    "\n",
    "for i in range(0,n):\n",
    "    number=int(input(\"enter a marks:\"))\n",
    "    lst.append(number)\n",
    "print(lst)"
   ]
  },
  {
   "cell_type": "code",
   "execution_count": 90,
   "id": "419bb3de",
   "metadata": {},
   "outputs": [
    {
     "data": {
      "text/plain": [
       "100"
      ]
     },
     "execution_count": 90,
     "metadata": {},
     "output_type": "execute_result"
    }
   ],
   "source": [
    "max(lst)"
   ]
  },
  {
   "cell_type": "code",
   "execution_count": 91,
   "id": "64e20db1",
   "metadata": {},
   "outputs": [
    {
     "data": {
      "text/plain": [
       "45"
      ]
     },
     "execution_count": 91,
     "metadata": {},
     "output_type": "execute_result"
    }
   ],
   "source": [
    "min(lst)"
   ]
  },
  {
   "cell_type": "code",
   "execution_count": 93,
   "id": "dffca3c8",
   "metadata": {},
   "outputs": [],
   "source": [
    "# 19 :WAP to save the username and password of 10 users in a dictionary."
   ]
  },
  {
   "cell_type": "code",
   "execution_count": 94,
   "id": "d53e2baf",
   "metadata": {},
   "outputs": [
    {
     "name": "stdout",
     "output_type": "stream",
     "text": [
      "List of K :  ['r', 'u', 's', 'H', 'I', 'K', 'e', 'u', 'y', 'O']\n",
      "list of V :  [3, 6, 5, 4, 8, 6, 5, 8, 8, 10]\n",
      "Dictionary from lists :\n",
      "  {'r': 3, 'u': 8, 's': 5, 'H': 4, 'I': 8, 'K': 6, 'e': 5, 'y': 8, 'O': 10}\n"
     ]
    }
   ],
   "source": [
    "listK = [\"r\", \"u\", \"s\",\"H\",\"I\",\"K\",\"e\",\"u\",\"y\",\"O\"]\n",
    "listV = [3, 6, 5,4,8,6,5,8,8,10]\n",
    "# Given lists\n",
    "print(\"List of K : \", listK)\n",
    "print(\"list of V : \", listV)\n",
    "# COnvert to dictionary\n",
    "res = dict(zip(listK, listV))\n",
    "print(\"Dictionary from lists :\\n \",res)"
   ]
  },
  {
   "cell_type": "code",
   "execution_count": 95,
   "id": "fcd2b9d6",
   "metadata": {},
   "outputs": [],
   "source": [
    "# 20.Write a Python program to find the sum of the first n positive integers. Take n as input from the user."
   ]
  },
  {
   "cell_type": "code",
   "execution_count": 96,
   "id": "b57d6d22",
   "metadata": {},
   "outputs": [
    {
     "name": "stdout",
     "output_type": "stream",
     "text": [
      "total numbers taken as a input:5\n",
      "enter number:45\n",
      "enter number:12\n",
      "enter number:56\n",
      "enter number:66\n",
      "enter number:53\n",
      "[45, 12, 56, 66, 53]\n"
     ]
    }
   ],
   "source": [
    "lst=[]\n",
    "n=int(input(\"total numbers taken as a input:\"))\n",
    "\n",
    "for i in range(0,n):\n",
    "    number=int(input(\"enter number:\"))\n",
    "    lst.append(number)\n",
    "print(lst)"
   ]
  },
  {
   "cell_type": "code",
   "execution_count": 97,
   "id": "f87c131c",
   "metadata": {},
   "outputs": [
    {
     "data": {
      "text/plain": [
       "232"
      ]
     },
     "execution_count": 97,
     "metadata": {},
     "output_type": "execute_result"
    }
   ],
   "source": [
    "sum(lst)"
   ]
  },
  {
   "cell_type": "code",
   "execution_count": null,
   "id": "714b5f41",
   "metadata": {},
   "outputs": [],
   "source": []
  }
 ],
 "metadata": {
  "kernelspec": {
   "display_name": "Python 3",
   "language": "python",
   "name": "python3"
  },
  "language_info": {
   "codemirror_mode": {
    "name": "ipython",
    "version": 3
   },
   "file_extension": ".py",
   "mimetype": "text/x-python",
   "name": "python",
   "nbconvert_exporter": "python",
   "pygments_lexer": "ipython3",
   "version": "3.8.8"
  }
 },
 "nbformat": 4,
 "nbformat_minor": 5
}
