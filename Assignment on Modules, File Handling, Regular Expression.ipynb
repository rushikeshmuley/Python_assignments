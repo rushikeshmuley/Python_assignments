{
 "cells": [
  {
   "cell_type": "markdown",
   "id": "first-warning",
   "metadata": {},
   "source": [
    "## Modules - Included questions from different internal/external libraries"
   ]
  },
  {
   "cell_type": "code",
   "execution_count": 1,
   "id": "rotary-cleaning",
   "metadata": {},
   "outputs": [
    {
     "name": "stdout",
     "output_type": "stream",
     "text": [
      "{'header': {'title': 'This is main', 'subtitle': 'This is subtext'}, 'footer': {'chapter': 'Chapter Title', 'page': 1, 'revision': 'First'}, 'body': {'content': 'This is a paragraph'}}\n"
     ]
    }
   ],
   "source": [
    "#Mo1  Hint: use json library/module\n",
    "# Write a Python program to convert data in a given json file to the following format.\n",
    "# (Find json file attached)\n",
    "# Input: Given JSON File (https://drive.google.com/file/d/15zl_FaXdatnlLlciBSrYKdiyaTvEATbO/view)\n",
    "# Output:\n",
    "#     header.title = \"This is main\"\n",
    "#     header.subtitle = \"This is subtext\"\n",
    "#     footer.chapter = \"Chapter Title\"\n",
    "#     footer.page = \"1\"\n",
    "#     footer.revision = \"First\"\n",
    "#     body.content = \"This is a paragraph\"\n",
    "    \n",
    "import requests\n",
    "import json\n",
    "\n",
    "import json\n",
    "\n",
    "# Open the JSON file\n",
    "with open(\"check.json\", \"r\") as json_file:\n",
    "    # Load the data from the file\n",
    "    data = json.load(json_file)\n",
    "\n",
    "# Do something with the data\n",
    "print(data)"
   ]
  },
  {
   "cell_type": "code",
   "execution_count": 2,
   "id": "progressive-breach",
   "metadata": {},
   "outputs": [
    {
     "name": "stdout",
     "output_type": "stream",
     "text": [
      "Requirement already satisfied: pytube in c:\\users\\user\\anaconda3\\lib\\site-packages (12.1.2)\n",
      "Enter the YouTube video link: https://www.youtube.com/watch?v=7wnove7K-ZQ&list=PLu0W_9lII9agwh1XjRt242xIpHhPT2llg&index=1\n"
     ]
    },
    {
     "data": {
      "text/plain": [
       "'C:\\\\Users\\\\User\\\\learnbay_python_course\\\\Introduction to Programming & Python  Python Tutorial - Day 1.3gpp'"
      ]
     },
     "execution_count": 2,
     "metadata": {},
     "output_type": "execute_result"
    }
   ],
   "source": [
    "#Mo2\n",
    "# Write a program to download specific video from YouTube and save it inside computer.\n",
    "# Take video link as input from the user.\n",
    "\n",
    "!pip install pytube\n",
    "from pytube import YouTube\n",
    "\n",
    "# Ask the user for the video link\n",
    "link = input(\"Enter the YouTube video link: \")\n",
    "\n",
    "# Create a YouTube object\n",
    "yt = YouTube(link)\n",
    "\n",
    "# Download the video\n",
    "video = yt.streams.first()\n",
    "video.download()"
   ]
  },
  {
   "cell_type": "code",
   "execution_count": 3,
   "id": "sorted-banner",
   "metadata": {},
   "outputs": [
    {
     "name": "stdout",
     "output_type": "stream",
     "text": [
      "Requirement already satisfied: simpleaudio in c:\\users\\user\\anaconda3\\lib\\site-packages (1.0.4)\n"
     ]
    },
    {
     "ename": "FileNotFoundError",
     "evalue": "[Errno 2] No such file or directory: 'audio.wav'",
     "output_type": "error",
     "traceback": [
      "\u001b[1;31m---------------------------------------------------------------------------\u001b[0m",
      "\u001b[1;31mFileNotFoundError\u001b[0m                         Traceback (most recent call last)",
      "\u001b[1;32m<ipython-input-3-7e31182dae3c>\u001b[0m in \u001b[0;36m<module>\u001b[1;34m\u001b[0m\n\u001b[0;32m      6\u001b[0m \u001b[1;33m\u001b[0m\u001b[0m\n\u001b[0;32m      7\u001b[0m \u001b[1;31m# Load the audio file\u001b[0m\u001b[1;33m\u001b[0m\u001b[1;33m\u001b[0m\u001b[1;33m\u001b[0m\u001b[0m\n\u001b[1;32m----> 8\u001b[1;33m \u001b[0mwave_obj\u001b[0m \u001b[1;33m=\u001b[0m \u001b[0msa\u001b[0m\u001b[1;33m.\u001b[0m\u001b[0mWaveObject\u001b[0m\u001b[1;33m.\u001b[0m\u001b[0mfrom_wave_file\u001b[0m\u001b[1;33m(\u001b[0m\u001b[1;34m\"audio.wav\"\u001b[0m\u001b[1;33m)\u001b[0m\u001b[1;33m\u001b[0m\u001b[1;33m\u001b[0m\u001b[0m\n\u001b[0m\u001b[0;32m      9\u001b[0m \u001b[1;33m\u001b[0m\u001b[0m\n\u001b[0;32m     10\u001b[0m \u001b[1;31m# Ask the user for 10 numbers\u001b[0m\u001b[1;33m\u001b[0m\u001b[1;33m\u001b[0m\u001b[1;33m\u001b[0m\u001b[0m\n",
      "\u001b[1;32m~\\anaconda3\\lib\\site-packages\\simpleaudio\\shiny.py\u001b[0m in \u001b[0;36mfrom_wave_file\u001b[1;34m(cls, wave_file)\u001b[0m\n\u001b[0;32m     22\u001b[0m     \u001b[1;33m@\u001b[0m\u001b[0mclassmethod\u001b[0m\u001b[1;33m\u001b[0m\u001b[1;33m\u001b[0m\u001b[0m\n\u001b[0;32m     23\u001b[0m     \u001b[1;32mdef\u001b[0m \u001b[0mfrom_wave_file\u001b[0m\u001b[1;33m(\u001b[0m\u001b[0mcls\u001b[0m\u001b[1;33m,\u001b[0m \u001b[0mwave_file\u001b[0m\u001b[1;33m)\u001b[0m\u001b[1;33m:\u001b[0m\u001b[1;33m\u001b[0m\u001b[1;33m\u001b[0m\u001b[0m\n\u001b[1;32m---> 24\u001b[1;33m         \u001b[0mwave_read\u001b[0m \u001b[1;33m=\u001b[0m \u001b[0mwave\u001b[0m\u001b[1;33m.\u001b[0m\u001b[0mopen\u001b[0m\u001b[1;33m(\u001b[0m\u001b[0mwave_file\u001b[0m\u001b[1;33m,\u001b[0m \u001b[1;34m'rb'\u001b[0m\u001b[1;33m)\u001b[0m\u001b[1;33m\u001b[0m\u001b[1;33m\u001b[0m\u001b[0m\n\u001b[0m\u001b[0;32m     25\u001b[0m         \u001b[0mwave_obj\u001b[0m \u001b[1;33m=\u001b[0m \u001b[0mcls\u001b[0m\u001b[1;33m.\u001b[0m\u001b[0mfrom_wave_read\u001b[0m\u001b[1;33m(\u001b[0m\u001b[0mwave_read\u001b[0m\u001b[1;33m)\u001b[0m\u001b[1;33m\u001b[0m\u001b[1;33m\u001b[0m\u001b[0m\n\u001b[0;32m     26\u001b[0m         \u001b[0mwave_read\u001b[0m\u001b[1;33m.\u001b[0m\u001b[0mclose\u001b[0m\u001b[1;33m(\u001b[0m\u001b[1;33m)\u001b[0m\u001b[1;33m\u001b[0m\u001b[1;33m\u001b[0m\u001b[0m\n",
      "\u001b[1;32m~\\anaconda3\\lib\\wave.py\u001b[0m in \u001b[0;36mopen\u001b[1;34m(f, mode)\u001b[0m\n\u001b[0;32m    508\u001b[0m             \u001b[0mmode\u001b[0m \u001b[1;33m=\u001b[0m \u001b[1;34m'rb'\u001b[0m\u001b[1;33m\u001b[0m\u001b[1;33m\u001b[0m\u001b[0m\n\u001b[0;32m    509\u001b[0m     \u001b[1;32mif\u001b[0m \u001b[0mmode\u001b[0m \u001b[1;32min\u001b[0m \u001b[1;33m(\u001b[0m\u001b[1;34m'r'\u001b[0m\u001b[1;33m,\u001b[0m \u001b[1;34m'rb'\u001b[0m\u001b[1;33m)\u001b[0m\u001b[1;33m:\u001b[0m\u001b[1;33m\u001b[0m\u001b[1;33m\u001b[0m\u001b[0m\n\u001b[1;32m--> 510\u001b[1;33m         \u001b[1;32mreturn\u001b[0m \u001b[0mWave_read\u001b[0m\u001b[1;33m(\u001b[0m\u001b[0mf\u001b[0m\u001b[1;33m)\u001b[0m\u001b[1;33m\u001b[0m\u001b[1;33m\u001b[0m\u001b[0m\n\u001b[0m\u001b[0;32m    511\u001b[0m     \u001b[1;32melif\u001b[0m \u001b[0mmode\u001b[0m \u001b[1;32min\u001b[0m \u001b[1;33m(\u001b[0m\u001b[1;34m'w'\u001b[0m\u001b[1;33m,\u001b[0m \u001b[1;34m'wb'\u001b[0m\u001b[1;33m)\u001b[0m\u001b[1;33m:\u001b[0m\u001b[1;33m\u001b[0m\u001b[1;33m\u001b[0m\u001b[0m\n\u001b[0;32m    512\u001b[0m         \u001b[1;32mreturn\u001b[0m \u001b[0mWave_write\u001b[0m\u001b[1;33m(\u001b[0m\u001b[0mf\u001b[0m\u001b[1;33m)\u001b[0m\u001b[1;33m\u001b[0m\u001b[1;33m\u001b[0m\u001b[0m\n",
      "\u001b[1;32m~\\anaconda3\\lib\\wave.py\u001b[0m in \u001b[0;36m__init__\u001b[1;34m(self, f)\u001b[0m\n\u001b[0;32m    158\u001b[0m         \u001b[0mself\u001b[0m\u001b[1;33m.\u001b[0m\u001b[0m_i_opened_the_file\u001b[0m \u001b[1;33m=\u001b[0m \u001b[1;32mNone\u001b[0m\u001b[1;33m\u001b[0m\u001b[1;33m\u001b[0m\u001b[0m\n\u001b[0;32m    159\u001b[0m         \u001b[1;32mif\u001b[0m \u001b[0misinstance\u001b[0m\u001b[1;33m(\u001b[0m\u001b[0mf\u001b[0m\u001b[1;33m,\u001b[0m \u001b[0mstr\u001b[0m\u001b[1;33m)\u001b[0m\u001b[1;33m:\u001b[0m\u001b[1;33m\u001b[0m\u001b[1;33m\u001b[0m\u001b[0m\n\u001b[1;32m--> 160\u001b[1;33m             \u001b[0mf\u001b[0m \u001b[1;33m=\u001b[0m \u001b[0mbuiltins\u001b[0m\u001b[1;33m.\u001b[0m\u001b[0mopen\u001b[0m\u001b[1;33m(\u001b[0m\u001b[0mf\u001b[0m\u001b[1;33m,\u001b[0m \u001b[1;34m'rb'\u001b[0m\u001b[1;33m)\u001b[0m\u001b[1;33m\u001b[0m\u001b[1;33m\u001b[0m\u001b[0m\n\u001b[0m\u001b[0;32m    161\u001b[0m             \u001b[0mself\u001b[0m\u001b[1;33m.\u001b[0m\u001b[0m_i_opened_the_file\u001b[0m \u001b[1;33m=\u001b[0m \u001b[0mf\u001b[0m\u001b[1;33m\u001b[0m\u001b[1;33m\u001b[0m\u001b[0m\n\u001b[0;32m    162\u001b[0m         \u001b[1;31m# else, assume it is an open file object already\u001b[0m\u001b[1;33m\u001b[0m\u001b[1;33m\u001b[0m\u001b[1;33m\u001b[0m\u001b[0m\n",
      "\u001b[1;31mFileNotFoundError\u001b[0m: [Errno 2] No such file or directory: 'audio.wav'"
     ]
    }
   ],
   "source": [
    "#Mo3\n",
    "# Write a program to play a specific audio file from the computer when the user enters a number which is a multiple of 5.\n",
    "# Take 10 inputs from the user in a sequence. Play the audio file for every number which is a multiple of 5.\n",
    "!pip install simpleaudio\n",
    "import simpleaudio as sa\n",
    "\n",
    "# Load the audio file\n",
    "wave_obj = sa.WaveObject.from_wave_file(\"audio.wav\")\n",
    "\n",
    "# Ask the user for 10 numbers\n",
    "for i in range(10):\n",
    "    number = int(input(\"Enter a number: \"))\n",
    "    if number % 5 == 0:\n",
    "        # Play the audio file\n",
    "        play_obj = wave_obj.play()\n",
    "        play_obj.wait_done()\n"
   ]
  },
  {
   "cell_type": "code",
   "execution_count": 4,
   "id": "federal-induction",
   "metadata": {},
   "outputs": [
    {
     "name": "stdout",
     "output_type": "stream",
     "text": [
      "Enter the timezone (e.g. America/New_York): America/New_York\n",
      "2023-01-21 00:34:55 EST\n"
     ]
    }
   ],
   "source": [
    "#Mo4\n",
    "# Write a program to print the current time and date in a timezone which is taken as input from the user.\n",
    "\n",
    "import pytz\n",
    "import datetime\n",
    "\n",
    "# Ask the user for the timezone\n",
    "timezone = input(\"Enter the timezone (e.g. America/New_York): \")\n",
    "\n",
    "# Get the current time in the specified timezone\n",
    "tz = pytz.timezone(timezone)\n",
    "now = datetime.datetime.now(tz)\n",
    "\n",
    "# Print the current time and date\n",
    "print(now.strftime(\"%Y-%m-%d %H:%M:%S %Z\"))"
   ]
  },
  {
   "cell_type": "code",
   "execution_count": 5,
   "id": "eastern-comment",
   "metadata": {},
   "outputs": [
    {
     "name": "stdout",
     "output_type": "stream",
     "text": [
      "6\n"
     ]
    }
   ],
   "source": [
    "#Mo5\n",
    "# Write a program to tell the week number of a date taken as input from the user.\n",
    "# For e.g.: \n",
    "#     Input: '13/02/2022'\n",
    "#     Output: 6\n",
    "        \n",
    "import datetime\n",
    "print(datetime.date(2022, 2, 13).isocalendar()[1])        \n"
   ]
  },
  {
   "cell_type": "code",
   "execution_count": 6,
   "id": "artistic-geography",
   "metadata": {},
   "outputs": [
    {
     "name": "stdout",
     "output_type": "stream",
     "text": [
      "Requirement already satisfied: pypiwin32 in c:\\users\\user\\anaconda3\\lib\\site-packages (223)\n",
      "Requirement already satisfied: pywin32>=223 in c:\\users\\user\\anaconda3\\lib\\site-packages (from pypiwin32) (227)\n"
     ]
    },
    {
     "ename": "FileNotFoundError",
     "evalue": "[Errno 2] No such file or directory: 'email_content.txt'",
     "output_type": "error",
     "traceback": [
      "\u001b[1;31m---------------------------------------------------------------------------\u001b[0m",
      "\u001b[1;31mFileNotFoundError\u001b[0m                         Traceback (most recent call last)",
      "\u001b[1;32m<ipython-input-6-ebab643a79b2>\u001b[0m in \u001b[0;36m<module>\u001b[1;34m\u001b[0m\n\u001b[0;32m      9\u001b[0m \u001b[1;33m\u001b[0m\u001b[0m\n\u001b[0;32m     10\u001b[0m \u001b[1;31m# Get the email content from a text file\u001b[0m\u001b[1;33m\u001b[0m\u001b[1;33m\u001b[0m\u001b[1;33m\u001b[0m\u001b[0m\n\u001b[1;32m---> 11\u001b[1;33m \u001b[1;32mwith\u001b[0m \u001b[0mopen\u001b[0m\u001b[1;33m(\u001b[0m\u001b[1;34m\"email_content.txt\"\u001b[0m\u001b[1;33m,\u001b[0m \u001b[1;34m\"r\"\u001b[0m\u001b[1;33m)\u001b[0m \u001b[1;32mas\u001b[0m \u001b[0mfile\u001b[0m\u001b[1;33m:\u001b[0m\u001b[1;33m\u001b[0m\u001b[1;33m\u001b[0m\u001b[0m\n\u001b[0m\u001b[0;32m     12\u001b[0m     \u001b[0memail_content\u001b[0m \u001b[1;33m=\u001b[0m \u001b[0mfile\u001b[0m\u001b[1;33m.\u001b[0m\u001b[0mread\u001b[0m\u001b[1;33m(\u001b[0m\u001b[1;33m)\u001b[0m\u001b[1;33m\u001b[0m\u001b[1;33m\u001b[0m\u001b[0m\n\u001b[0;32m     13\u001b[0m \u001b[1;33m\u001b[0m\u001b[0m\n",
      "\u001b[1;31mFileNotFoundError\u001b[0m: [Errno 2] No such file or directory: 'email_content.txt'"
     ]
    }
   ],
   "source": [
    "#Mo6\n",
    "# Write a program to send a specific mail to person using outlook (gmail API is obsolete now).\n",
    "# Take mail content from a txt file stored in a computer\n",
    "# Take receiver email address as input from the user.\n",
    "# Send the email from a set outlook account. (Use dummy account here if needed.)\n",
    "\n",
    "!pip install pypiwin32\n",
    "import win32com.client as win32\n",
    "\n",
    "# Get the email content from a text file\n",
    "with open(\"email_content.txt\", \"r\") as file:\n",
    "    email_content = file.read()\n",
    "\n",
    "# Ask the user for the receiver's email address\n",
    "receiver_email = input(\"Enter the receiver's email address: \")\n",
    "\n",
    "# Create an Outlook object\n",
    "outlook = win32.Dispatch('outlook.application')\n",
    "\n",
    "# Create a new email\n",
    "mail = outlook.CreateItem(0)\n",
    "\n",
    "# Set the recipient and sender\n",
    "mail.To = receiver_email\n",
    "mail.Subject = \"Test Email\"\n",
    "mail.Body = email_content\n",
    "mail.SentOnBehalfOfName = \"sender_email@example.com\"\n",
    "\n",
    "# Send the email\n",
    "mail.Send()\n",
    "\n",
    "print(\"Email sent to \" + receiver_email)\n",
    "\n"
   ]
  },
  {
   "cell_type": "code",
   "execution_count": null,
   "id": "medium-lodging",
   "metadata": {},
   "outputs": [],
   "source": []
  },
  {
   "cell_type": "code",
   "execution_count": null,
   "id": "micro-union",
   "metadata": {},
   "outputs": [],
   "source": []
  },
  {
   "cell_type": "code",
   "execution_count": null,
   "id": "aggressive-property",
   "metadata": {},
   "outputs": [],
   "source": []
  },
  {
   "cell_type": "code",
   "execution_count": null,
   "id": "rental-charge",
   "metadata": {},
   "outputs": [],
   "source": []
  },
  {
   "cell_type": "markdown",
   "id": "current-nashville",
   "metadata": {},
   "source": [
    "## File Handling"
   ]
  },
  {
   "cell_type": "code",
   "execution_count": 7,
   "id": "asian-portable",
   "metadata": {},
   "outputs": [
    {
     "ename": "FileNotFoundError",
     "evalue": "[Errno 2] No such file or directory: 'input.txt'",
     "output_type": "error",
     "traceback": [
      "\u001b[1;31m---------------------------------------------------------------------------\u001b[0m",
      "\u001b[1;31mFileNotFoundError\u001b[0m                         Traceback (most recent call last)",
      "\u001b[1;32m<ipython-input-7-814639a9e45c>\u001b[0m in \u001b[0;36m<module>\u001b[1;34m\u001b[0m\n\u001b[0;32m      5\u001b[0m \u001b[1;33m\u001b[0m\u001b[0m\n\u001b[0;32m      6\u001b[0m \u001b[1;31m# Open the input file\u001b[0m\u001b[1;33m\u001b[0m\u001b[1;33m\u001b[0m\u001b[1;33m\u001b[0m\u001b[0m\n\u001b[1;32m----> 7\u001b[1;33m \u001b[1;32mwith\u001b[0m \u001b[0mopen\u001b[0m\u001b[1;33m(\u001b[0m\u001b[1;34m\"input.txt\"\u001b[0m\u001b[1;33m,\u001b[0m \u001b[1;34m\"r\"\u001b[0m\u001b[1;33m)\u001b[0m \u001b[1;32mas\u001b[0m \u001b[0mfile\u001b[0m\u001b[1;33m:\u001b[0m\u001b[1;33m\u001b[0m\u001b[1;33m\u001b[0m\u001b[0m\n\u001b[0m\u001b[0;32m      8\u001b[0m     \u001b[0mcontent\u001b[0m \u001b[1;33m=\u001b[0m \u001b[0mfile\u001b[0m\u001b[1;33m.\u001b[0m\u001b[0mread\u001b[0m\u001b[1;33m(\u001b[0m\u001b[1;33m)\u001b[0m\u001b[1;33m\u001b[0m\u001b[1;33m\u001b[0m\u001b[0m\n\u001b[0;32m      9\u001b[0m \u001b[1;33m\u001b[0m\u001b[0m\n",
      "\u001b[1;31mFileNotFoundError\u001b[0m: [Errno 2] No such file or directory: 'input.txt'"
     ]
    }
   ],
   "source": [
    "#F1\n",
    "# WAP to read content from one file and create two separate files from the given file content. \n",
    "# The given file has two paragraphs separated by '-----------'. \n",
    "# Save these two paragraphs in two separate files.\n",
    "\n",
    "# Open the input file\n",
    "with open(\"input.txt\", \"r\") as file:\n",
    "    content = file.read()\n",
    "\n",
    "# Split the content by '-----------'\n",
    "paragraphs = content.split(\"-----------\")\n",
    "\n",
    "if len(paragraphs)>=2:\n",
    "    # Create two output files\n",
    "    with open(\"output1.txt\", \"w\") as file1:\n",
    "        file1.write(paragraphs[0])\n",
    "\n",
    "    with open(\"output2.txt\", \"w\") as file2:\n",
    "        file2.write(paragraphs[1])\n",
    "    print(\"File split and written to output1.txt and output2.txt\")\n",
    "else:\n",
    "    print(\"Input file should have at least 2 paragraphs separated by '-----------'\")\n",
    "\n"
   ]
  },
  {
   "cell_type": "code",
   "execution_count": null,
   "id": "demographic-check",
   "metadata": {},
   "outputs": [],
   "source": [
    "#F2\n",
    "# Write a program to save the dictionary inside a file in json style.\n",
    "# The dictionary is containing multiple details about a book such as author, date, pages, mrp, etc...\n",
    "\n",
    "import json\n",
    "\n",
    "# Example book dictionary\n",
    "book = {\n",
    "    \"title\": \"The Great Gatsby\",\n",
    "    \"author\": \"F. Scott Fitzgerald\",\n",
    "    \"publish_date\": \"April 10, 1925\",\n",
    "    \"pages\": 180,\n",
    "    \"mrp\": 15.99\n",
    "}\n",
    "\n",
    "# Open a file for writing\n",
    "with open(\"book.json\", \"w\") as f:\n",
    "    # Write the book dictionary to the file in JSON format\n",
    "    json.dump(book, f)\n",
    "\n",
    "\n"
   ]
  },
  {
   "cell_type": "code",
   "execution_count": 8,
   "id": "suffering-gambling",
   "metadata": {},
   "outputs": [
    {
     "name": "stdout",
     "output_type": "stream",
     "text": [
      "Enter the file name: \n",
      "Enter the line number: \n"
     ]
    },
    {
     "ename": "ValueError",
     "evalue": "invalid literal for int() with base 10: ''",
     "output_type": "error",
     "traceback": [
      "\u001b[1;31m---------------------------------------------------------------------------\u001b[0m",
      "\u001b[1;31mValueError\u001b[0m                                Traceback (most recent call last)",
      "\u001b[1;32m<ipython-input-8-c035ebd1fafd>\u001b[0m in \u001b[0;36m<module>\u001b[1;34m\u001b[0m\n\u001b[0;32m     10\u001b[0m \u001b[1;33m\u001b[0m\u001b[0m\n\u001b[0;32m     11\u001b[0m \u001b[0mfile_name\u001b[0m \u001b[1;33m=\u001b[0m \u001b[0minput\u001b[0m\u001b[1;33m(\u001b[0m\u001b[1;34m\"Enter the file name: \"\u001b[0m\u001b[1;33m)\u001b[0m\u001b[1;33m\u001b[0m\u001b[1;33m\u001b[0m\u001b[0m\n\u001b[1;32m---> 12\u001b[1;33m \u001b[0mline_num\u001b[0m \u001b[1;33m=\u001b[0m \u001b[0mint\u001b[0m\u001b[1;33m(\u001b[0m\u001b[0minput\u001b[0m\u001b[1;33m(\u001b[0m\u001b[1;34m\"Enter the line number: \"\u001b[0m\u001b[1;33m)\u001b[0m\u001b[1;33m)\u001b[0m\u001b[1;33m\u001b[0m\u001b[1;33m\u001b[0m\u001b[0m\n\u001b[0m\u001b[0;32m     13\u001b[0m \u001b[0mprint\u001b[0m\u001b[1;33m(\u001b[0m\u001b[0mread_line_from_file\u001b[0m\u001b[1;33m(\u001b[0m\u001b[0mfile_name\u001b[0m\u001b[1;33m,\u001b[0m \u001b[0mline_num\u001b[0m\u001b[1;33m)\u001b[0m\u001b[1;33m)\u001b[0m\u001b[1;33m\u001b[0m\u001b[1;33m\u001b[0m\u001b[0m\n\u001b[0;32m     14\u001b[0m \u001b[1;33m\u001b[0m\u001b[0m\n",
      "\u001b[1;31mValueError\u001b[0m: invalid literal for int() with base 10: ''"
     ]
    }
   ],
   "source": [
    "#F3\n",
    "# Write a program to read specific lines from a given txt file. Take line number as input from the user.\n",
    "def read_line_from_file(file_name:str, line_num:int):\n",
    "    with open(file_name, \"r\") as f:\n",
    "        lines = f.readlines()\n",
    "        try:\n",
    "            return lines[line_num - 1]\n",
    "        except IndexError:\n",
    "            return f\"Line number {line_num} not found in file.\"\n",
    "\n",
    "file_name = input(\"Enter the file name: \")\n",
    "line_num = int(input(\"Enter the line number: \"))\n",
    "print(read_line_from_file(file_name, line_num))\n",
    "\n",
    "\n"
   ]
  },
  {
   "cell_type": "code",
   "execution_count": 9,
   "id": "spare-portrait",
   "metadata": {},
   "outputs": [
    {
     "name": "stdout",
     "output_type": "stream",
     "text": [
      "Enter the file name: \n"
     ]
    },
    {
     "ename": "FileNotFoundError",
     "evalue": "[Errno 2] No such file or directory: ''",
     "output_type": "error",
     "traceback": [
      "\u001b[1;31m---------------------------------------------------------------------------\u001b[0m",
      "\u001b[1;31mFileNotFoundError\u001b[0m                         Traceback (most recent call last)",
      "\u001b[1;32m<ipython-input-9-ce890875a0b2>\u001b[0m in \u001b[0;36m<module>\u001b[1;34m\u001b[0m\n\u001b[0;32m      8\u001b[0m \u001b[1;33m\u001b[0m\u001b[0m\n\u001b[0;32m      9\u001b[0m \u001b[0mfile_name\u001b[0m \u001b[1;33m=\u001b[0m \u001b[0minput\u001b[0m\u001b[1;33m(\u001b[0m\u001b[1;34m\"Enter the file name: \"\u001b[0m\u001b[1;33m)\u001b[0m\u001b[1;33m\u001b[0m\u001b[1;33m\u001b[0m\u001b[0m\n\u001b[1;32m---> 10\u001b[1;33m \u001b[0mprint\u001b[0m\u001b[1;33m(\u001b[0m\u001b[1;34m\"Number of words in file:\"\u001b[0m\u001b[1;33m,\u001b[0m \u001b[0mcount_words_in_file\u001b[0m\u001b[1;33m(\u001b[0m\u001b[0mfile_name\u001b[0m\u001b[1;33m)\u001b[0m\u001b[1;33m)\u001b[0m\u001b[1;33m\u001b[0m\u001b[1;33m\u001b[0m\u001b[0m\n\u001b[0m\u001b[0;32m     11\u001b[0m \u001b[1;33m\u001b[0m\u001b[0m\n",
      "\u001b[1;32m<ipython-input-9-ce890875a0b2>\u001b[0m in \u001b[0;36mcount_words_in_file\u001b[1;34m(file_name)\u001b[0m\n\u001b[0;32m      2\u001b[0m \u001b[1;31m# Write a Python program that takes a text file as input and returns the number of words present in the file.\u001b[0m\u001b[1;33m\u001b[0m\u001b[1;33m\u001b[0m\u001b[1;33m\u001b[0m\u001b[0m\n\u001b[0;32m      3\u001b[0m \u001b[1;32mdef\u001b[0m \u001b[0mcount_words_in_file\u001b[0m\u001b[1;33m(\u001b[0m\u001b[0mfile_name\u001b[0m\u001b[1;33m:\u001b[0m \u001b[0mstr\u001b[0m\u001b[1;33m)\u001b[0m\u001b[1;33m:\u001b[0m\u001b[1;33m\u001b[0m\u001b[1;33m\u001b[0m\u001b[0m\n\u001b[1;32m----> 4\u001b[1;33m     \u001b[1;32mwith\u001b[0m \u001b[0mopen\u001b[0m\u001b[1;33m(\u001b[0m\u001b[0mfile_name\u001b[0m\u001b[1;33m,\u001b[0m \u001b[1;34m'r'\u001b[0m\u001b[1;33m)\u001b[0m \u001b[1;32mas\u001b[0m \u001b[0mf\u001b[0m\u001b[1;33m:\u001b[0m\u001b[1;33m\u001b[0m\u001b[1;33m\u001b[0m\u001b[0m\n\u001b[0m\u001b[0;32m      5\u001b[0m         \u001b[0mtext\u001b[0m \u001b[1;33m=\u001b[0m \u001b[0mf\u001b[0m\u001b[1;33m.\u001b[0m\u001b[0mread\u001b[0m\u001b[1;33m(\u001b[0m\u001b[1;33m)\u001b[0m\u001b[1;33m\u001b[0m\u001b[1;33m\u001b[0m\u001b[0m\n\u001b[0;32m      6\u001b[0m         \u001b[0mwords\u001b[0m \u001b[1;33m=\u001b[0m \u001b[0mtext\u001b[0m\u001b[1;33m.\u001b[0m\u001b[0msplit\u001b[0m\u001b[1;33m(\u001b[0m\u001b[1;33m)\u001b[0m\u001b[1;33m\u001b[0m\u001b[1;33m\u001b[0m\u001b[0m\n",
      "\u001b[1;31mFileNotFoundError\u001b[0m: [Errno 2] No such file or directory: ''"
     ]
    }
   ],
   "source": [
    "#F4\n",
    "# Write a Python program that takes a text file as input and returns the number of words present in the file.\n",
    "def count_words_in_file(file_name: str):\n",
    "    with open(file_name, 'r') as f:\n",
    "        text = f.read()\n",
    "        words = text.split()\n",
    "        return len(words)\n",
    "\n",
    "file_name = input(\"Enter the file name: \")\n",
    "print(\"Number of words in file:\", count_words_in_file(file_name))\n",
    "\n"
   ]
  },
  {
   "cell_type": "code",
   "execution_count": 10,
   "id": "soviet-restaurant",
   "metadata": {},
   "outputs": [],
   "source": [
    "#F5\n",
    "# Write a Python program to generate 26 text files named A.txt, B.txt, and so on up to Z.txt.\n",
    "# Save the multiplication table of the corresponding number in the corresponding text file.\n",
    "# For e.g.: Table of 1 in A.txt, Table of 2 in B.txt and so on...\n",
    "\n",
    "for i in range(1, 27):\n",
    "    with open(chr(i + 64) + \".txt\", \"w\") as f:\n",
    "        for j in range(1, 11):\n",
    "            f.write(f\"{i} x {j} = {i*j}\\n\")\n"
   ]
  },
  {
   "cell_type": "code",
   "execution_count": null,
   "id": "neutral-essence",
   "metadata": {},
   "outputs": [],
   "source": []
  },
  {
   "cell_type": "markdown",
   "id": "similar-technique",
   "metadata": {},
   "source": [
    "## Regular Expression"
   ]
  },
  {
   "cell_type": "code",
   "execution_count": 11,
   "id": "raising-transfer",
   "metadata": {},
   "outputs": [
    {
     "name": "stdout",
     "output_type": "stream",
     "text": [
      "True\n",
      "False\n"
     ]
    }
   ],
   "source": [
    "#Re1\n",
    "# Write a Python program where a string will start with a specific number.\n",
    "\n",
    "# For e.g.: Check for string starting with 9\n",
    "#     Input: 91\n",
    "#     Output: True\n",
    "        \n",
    "#     Input: 83\n",
    "#     Output: False\n",
    "import re\n",
    "def match_num(string):\n",
    "    text = re.compile(r\"^9\")\n",
    "    if text.match(string):\n",
    "        return True\n",
    "    else:\n",
    "        return False\n",
    "print(match_num('9-2345861'))\n",
    "print(match_num('6-2345861'))        \n",
    "        \n",
    "        \n",
    "        "
   ]
  },
  {
   "cell_type": "code",
   "execution_count": 12,
   "id": "psychological-norman",
   "metadata": {},
   "outputs": [
    {
     "name": "stdout",
     "output_type": "stream",
     "text": [
      "Found \"exercises\"\n",
      "Found \"exercises\"\n",
      "Found \"exercises\"\n"
     ]
    }
   ],
   "source": [
    "#Re2\n",
    "# Write a Python program to search some substrings in a string.\n",
    "\n",
    "# For e.g.: \"Python is a great language and easy for beginners\"\n",
    "#     Input: \"Python\", \"easy\", \"best\"\n",
    "#     Output: \"Matched\", \"Matched\", \"Not Matched\"\n",
    "        \n",
    "import re\n",
    "text = 'Python exercises, PHP exercises, C# exercises'\n",
    "pattern = 'exercises'\n",
    "for match in re.findall(pattern, text):\n",
    "    print('Found \"%s\"' % match)        \n",
    "        "
   ]
  },
  {
   "cell_type": "code",
   "execution_count": 13,
   "id": "hired-chair",
   "metadata": {},
   "outputs": [
    {
     "name": "stdout",
     "output_type": "stream",
     "text": [
      "Python_Exercises\n",
      "Python Exercises\n"
     ]
    }
   ],
   "source": [
    "#Re3\n",
    "# Write a Python program to replace whitespaces with an underscore.\n",
    "\n",
    "# For e.g.: \n",
    "#     Input: \"Python is a great language and easy for beginners\"\n",
    "#     Output: \"Python_is_a_great_language_and_easy_for_beginners\"\n",
    "        \n",
    "        \n",
    "import re\n",
    "text = 'Python Exercises'\n",
    "text =text.replace (\" \", \"_\")\n",
    "print(text)\n",
    "text =text.replace (\"_\", \" \")\n",
    "print(text)"
   ]
  },
  {
   "cell_type": "code",
   "execution_count": 14,
   "id": "applicable-jersey",
   "metadata": {},
   "outputs": [
    {
     "name": "stdout",
     "output_type": "stream",
     "text": [
      "216.8.94.196\n"
     ]
    }
   ],
   "source": [
    "#Re4\n",
    "# Write a Python program to remove leading zeros from an IP address.\n",
    "\n",
    "# For e.g.:\n",
    "#     Input: \"216.008.094.196\"\n",
    "#     Output: \"216.8.94.196\"\n",
    "        \n",
    "        \n",
    "import re\n",
    "ip = \"216.08.094.196\"\n",
    "string = re.sub('\\.[0]*', '.', ip)\n",
    "print(string)\n"
   ]
  },
  {
   "cell_type": "code",
   "execution_count": 15,
   "id": "vietnamese-calvin",
   "metadata": {},
   "outputs": [
    {
     "name": "stdout",
     "output_type": "stream",
     "text": [
      "Invalid IP\n"
     ]
    }
   ],
   "source": [
    "#Re4\n",
    "# Write a Python program to find the type of IP Address\n",
    "\n",
    "# For e.g.:\n",
    "#     Input: 192.0.2.126\n",
    "#     Output: IPv4\n",
    "\n",
    "#     Input: 3001:0da8:75a3:0000:0000:8a2e:0370:7334\n",
    "#     Output: IPv6\n",
    "\n",
    "#     Input: 36.12.08.20.52\n",
    "#     Output: Neither\n",
    "        \n",
    "        \n",
    "import socket\n",
    "addr = '127.0.0.2561'\n",
    "try:\n",
    "    socket.inet_aton(addr)\n",
    "    print(\"Valid IP\")\n",
    "except socket.error:\n",
    "    print(\"Invalid IP\")"
   ]
  },
  {
   "cell_type": "code",
   "execution_count": 16,
   "id": "young-combine",
   "metadata": {},
   "outputs": [
    {
     "name": "stdout",
     "output_type": "stream",
     "text": [
      "The file ending with .txt is: computer.txt\n"
     ]
    }
   ],
   "source": [
    "#Re5 Hint: Use external library OS\n",
    "# Write a Python program to find files having a particular extension\n",
    "\n",
    "# For e.g.:\n",
    "#     Input: Different files present in a particular folder. Files are of different types\n",
    "#     Output: Make a list of all the files having .txt extension\n",
    "        \n",
    "        \n",
    "# import library\n",
    "import re\n",
    "\n",
    "# list of different types of file\n",
    "filenames = [\"gfg.html\", \"geeks.xml\",\n",
    "\t\t\t\"computer.txt\", \"geeksforgeeks.jpg\"]\n",
    "\n",
    "for file in filenames:\n",
    "\t# search given pattern in the line\n",
    "\tmatch = re.search(\"\\.txt\", file)\n",
    "\n",
    "\t# if match is found\n",
    "\tif match:\n",
    "\t\tprint(\"The file ending with .txt is:\",\n",
    "\t\t\tfile)\n"
   ]
  },
  {
   "cell_type": "code",
   "execution_count": 17,
   "id": "seven-eugene",
   "metadata": {},
   "outputs": [],
   "source": [
    "# Re6\n",
    "inputString = \"My name is Harshil. My contact number is 9354328885 and I was born on 21st November 2020 in Pune.\"\n",
    "# regex = ?   # one or multiple regex\n",
    "# Some code\n",
    "Output = ['Harshil', '9354328855', '21st November 2020', 'Pune']\n",
    "\n",
    "\n"
   ]
  },
  {
   "cell_type": "code",
   "execution_count": null,
   "id": "4338ef76",
   "metadata": {},
   "outputs": [],
   "source": []
  }
 ],
 "metadata": {
  "kernelspec": {
   "display_name": "Python 3",
   "language": "python",
   "name": "python3"
  },
  "language_info": {
   "codemirror_mode": {
    "name": "ipython",
    "version": 3
   },
   "file_extension": ".py",
   "mimetype": "text/x-python",
   "name": "python",
   "nbconvert_exporter": "python",
   "pygments_lexer": "ipython3",
   "version": "3.8.8"
  }
 },
 "nbformat": 4,
 "nbformat_minor": 5
}
