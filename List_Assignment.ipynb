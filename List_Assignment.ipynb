{
  "cells": [
    {
      "cell_type": "code",
      "execution_count": 2,
      "metadata": {
        "id": "gtlAv2oq9yzd",
        "colab": {
          "base_uri": "https://localhost:8080/"
        },
        "outputId": "815d05c3-413e-4953-b23d-114e068d216e"
      },
      "outputs": [
        {
          "output_type": "stream",
          "name": "stdout",
          "text": [
            "100\n"
          ]
        }
      ],
      "source": [
        "#Write a Python program to find the sum of all elements in a list using loop.\n",
        "#Input:- [10,20,30,40]\n",
        "#Output:- 100\n",
        "l=[10,20,30,40]\n",
        "sum=0\n",
        "for i in l:\n",
        "  sum +=i\n",
        "print(sum)"
      ]
    },
    {
      "cell_type": "code",
      "execution_count": 4,
      "metadata": {
        "id": "gTbA8psa93Y_",
        "colab": {
          "base_uri": "https://localhost:8080/"
        },
        "outputId": "675b9114-edf7-4525-aaf0-791bfdfff8a5"
      },
      "outputs": [
        {
          "output_type": "stream",
          "name": "stdout",
          "text": [
            "240000\n"
          ]
        }
      ],
      "source": [
        "#Write a Python program to find the multiplication of all elements in a list using loop.\n",
        "#Input:- [10,20,30,40]\n",
        "#Output:- 240000\n",
        "l=[10,20,30,40]\n",
        "sum=1\n",
        "for i in l:\n",
        "  sum *=i\n",
        "print(sum)"
      ]
    },
    {
      "cell_type": "code",
      "execution_count": 6,
      "metadata": {
        "id": "XBCrEtLN94Lj",
        "colab": {
          "base_uri": "https://localhost:8080/"
        },
        "outputId": "6a63a0c8-1034-4647-8d57-332a27a0a636"
      },
      "outputs": [
        {
          "output_type": "stream",
          "name": "stdout",
          "text": [
            "2321\n"
          ]
        }
      ],
      "source": [
        "#Write a Python program to find the largest number from a list using loop.\n",
        "#Input:- [10,100,2321, 1,200,2]\n",
        "#Output:- 2321\n",
        "l=[10,100,2321,1,200,2]\n",
        "for i in l:\n",
        "  if i==max(l):\n",
        "    print(i)"
      ]
    },
    {
      "cell_type": "code",
      "execution_count": 8,
      "metadata": {
        "id": "l3paUtbH94Vw",
        "colab": {
          "base_uri": "https://localhost:8080/"
        },
        "outputId": "efc3e159-9473-47b0-c507-e904b01e1cfc"
      },
      "outputs": [
        {
          "output_type": "stream",
          "name": "stdout",
          "text": [
            "min number in list:  1\n"
          ]
        }
      ],
      "source": [
        "#Write a Python program to find the smallest number from a list using loop.\n",
        "#Input:- [10,100,2321, 1,200,2]\n",
        "#Output:- 1\n",
        "l=[10,100,2321,1,200,2]\n",
        "for i in l:\n",
        "  if i==min(l):\n",
        "    print(\"min number in list: \",i)"
      ]
    },
    {
      "cell_type": "code",
      "execution_count": 19,
      "metadata": {
        "id": "JTVgy5VD94cE",
        "colab": {
          "base_uri": "https://localhost:8080/"
        },
        "outputId": "b5cbe197-d439-45b2-acdf-cb0708c1a517"
      },
      "outputs": [
        {
          "output_type": "stream",
          "name": "stdout",
          "text": [
            "2\n"
          ]
        }
      ],
      "source": [
        "#Write a Python program to count the number of strings having length more than 2 and are palindrome in a list using loop.\n",
        "#Input:- ['ab', 'abc', 'aba', 'xyz', '1991']\n",
        "#Output:- 2\n",
        "l=['ab','abc','aba','xyz','1991']\n",
        "count=0\n",
        "for i in l:\n",
        "  if len(i)>2 and i==i[::-1]:\n",
        "    count+=1\n",
        "print(count)\n"
      ]
    },
    {
      "cell_type": "code",
      "execution_count": 30,
      "metadata": {
        "id": "xs-ZGJbJ94gr",
        "colab": {
          "base_uri": "https://localhost:8080/"
        },
        "outputId": "a498a93c-8ad8-42a7-ce6b-becc8171cfca"
      },
      "outputs": [
        {
          "output_type": "stream",
          "name": "stdout",
          "text": [
            "[1, 100, 10, 298, 65, 483, 49876, 2, 80, 9, 9213]\n",
            "[1, 2, 100, 298, 65, 483, 49876, 10, 80, 9, 9213]\n",
            "[1, 2, 9, 298, 100, 483, 49876, 65, 80, 10, 9213]\n",
            "[1, 2, 9, 10, 298, 483, 49876, 100, 80, 65, 9213]\n",
            "[1, 2, 9, 10, 65, 483, 49876, 298, 100, 80, 9213]\n",
            "[1, 2, 9, 10, 65, 80, 49876, 483, 298, 100, 9213]\n",
            "[1, 2, 9, 10, 65, 80, 100, 49876, 483, 298, 9213]\n",
            "[1, 2, 9, 10, 65, 80, 100, 298, 49876, 483, 9213]\n",
            "[1, 2, 9, 10, 65, 80, 100, 298, 483, 49876, 9213]\n",
            "[1, 2, 9, 10, 65, 80, 100, 298, 483, 9213, 49876]\n",
            "Element After Sorting List in Ascending Order is :  [1, 2, 9, 10, 65, 80, 100, 298, 483, 9213, 49876]\n"
          ]
        }
      ],
      "source": [
        "#Write a Python program to sort a list in ascending order using loop.\n",
        "#Input:- [100,10,1,298,65,483,49876,2,80,9,9213]\n",
        "#Output:- [1,2,9,10,65,80,100,298,483,9213,49876]\n",
        "l=[100,10,1,298,65,483,49876,2,80,9,9213]\n",
        "\n",
        "for i in range(0,len(l)-1):\n",
        "  for j in range(i+1,len(l)):\n",
        "    if(l[i] > l[j]):\n",
        "      l[i],l[j]=l[j],l[i]\n",
        "    \n",
        "  print(l)\n",
        "\n",
        "          \n",
        "\n",
        "print(\"Element After Sorting List in Ascending Order is : \",l)\n"
      ]
    },
    {
      "cell_type": "code",
      "execution_count": 31,
      "metadata": {
        "id": "VhKQJizZ94kg",
        "colab": {
          "base_uri": "https://localhost:8080/"
        },
        "outputId": "eecc6076-8a69-4c63-a043-93aa00dc24b9"
      },
      "outputs": [
        {
          "output_type": "stream",
          "name": "stdout",
          "text": [
            "[(9, 1), (5, 4), (2, 3), (5, 9), (7, 6), (5, 5)]\n",
            "[(9, 1), (2, 3), (5, 4), (5, 9), (7, 6), (5, 5)]\n",
            "[(9, 1), (2, 3), (5, 4), (5, 9), (7, 6), (5, 5)]\n",
            "[(9, 1), (2, 3), (5, 4), (5, 5), (5, 9), (7, 6)]\n",
            "[(9, 1), (2, 3), (5, 4), (5, 5), (7, 6), (5, 9)]\n",
            "Element After Sorting List in Ascending Order is :  [(9, 1), (2, 3), (5, 4), (5, 5), (7, 6), (5, 9)]\n"
          ]
        }
      ],
      "source": [
        "#Write a Python program to get a sorted list in increasing order of last element in each tuple in a given list using loop.\n",
        "#Input:- [(5,4),(9,1),(2,3),(5,9),(7,6),(5,5)]\n",
        "#output:- [(9,1),(2,3),(5,4),(5,5),(7,6),(5,9)]\n",
        "\n",
        "l=[(5,4),(9,1),(2,3),(5,9),(7,6),(5,5)]\n",
        "\n",
        "for i in range(0,len(l)-1):\n",
        "  for j in range(i+1,len(l)):\n",
        "    if(l[i][1] > l[j][1]):\n",
        "      l[i],l[j]=l[j],l[i]\n",
        "    \n",
        "  print(l)\n",
        "\n",
        "          \n",
        "\n",
        "print(\"Element After Sorting List in Ascending Order is : \",l)"
      ]
    },
    {
      "cell_type": "code",
      "execution_count": 32,
      "metadata": {
        "id": "YJrCLYp694n_",
        "colab": {
          "base_uri": "https://localhost:8080/"
        },
        "outputId": "f90d546a-d5e6-4513-de30-0cd3d82d0e15"
      },
      "outputs": [
        {
          "output_type": "stream",
          "name": "stdout",
          "text": [
            "[10, 1, 11, 29, 876, 768, 92]\n"
          ]
        }
      ],
      "source": [
        "#Write a Python program to remove fuplicate element from a list using loop.\n",
        "#Input:- [10,1,11,1,29,876,768,10,11,1,92,29,876]\n",
        "#Output:- [10,1,11,29,876,768,92]\n",
        "l=[10,1,11,1,29,876,768,10,11,1,92,29,876]\n",
        "new_list = []\n",
        "\n",
        "for i in l:\n",
        "    if i not in new_list:\n",
        "        new_list.append(i)\n",
        "\n",
        "print(new_list)"
      ]
    },
    {
      "cell_type": "code",
      "execution_count": 33,
      "metadata": {
        "id": "koYe4YCu94rh",
        "colab": {
          "base_uri": "https://localhost:8080/"
        },
        "outputId": "43199fd6-5001-4b9a-d756-6b2dacefd986"
      },
      "outputs": [
        {
          "output_type": "stream",
          "name": "stdout",
          "text": [
            "list is empty\n"
          ]
        }
      ],
      "source": [
        "#Write a Python program to check a list is empty or not?\n",
        "#Input:- []\n",
        "#Output:- List is empty\n",
        "#Input:- [10,20,30]\n",
        "#Output:- List is not empty\n",
        "\n",
        "l=[]\n",
        "\n",
        "if len(l)==0:\n",
        "  print(\"list is empty\")\n",
        "else:\n",
        "  print(\"List is not empty\")"
      ]
    },
    {
      "cell_type": "code",
      "execution_count": 34,
      "metadata": {
        "id": "mES1WANa94u5",
        "colab": {
          "base_uri": "https://localhost:8080/"
        },
        "outputId": "9289aa3f-9a29-431c-fc54-432823de3a35"
      },
      "outputs": [
        {
          "output_type": "stream",
          "name": "stdout",
          "text": [
            "[10, 10.2, (10+20j), 'Python', [10, 20], (10, 20)]\n"
          ]
        }
      ],
      "source": [
        "#Write a Python program to copy a list using loop.\n",
        "#inp_lst = [10,10.20,10+20j, 'Python', [10,20], (10,20)]\n",
        "#out_lst = [10,10.20,10+20j, 'Python', [10,20], (10,20)]\n",
        "\n",
        "inp_lst = [10,10.20,10+20j, 'Python', [10,20], (10,20)]\n",
        "out_lst=[]\n",
        "\n",
        "for i in inp_lst:\n",
        "  out_lst.append(i)\n",
        "\n",
        "print(out_lst)  "
      ]
    },
    {
      "cell_type": "code",
      "execution_count": 42,
      "metadata": {
        "id": "CpBh31WO94yi",
        "colab": {
          "base_uri": "https://localhost:8080/"
        },
        "outputId": "be73d916-297e-429f-d354-b40823eccfda"
      },
      "outputs": [
        {
          "output_type": "stream",
          "name": "stdout",
          "text": [
            "['much', 'wood', 'would', 'woodchuck', 'chuck', 'could']\n"
          ]
        }
      ],
      "source": [
        "#Write a Python program to find the list of words that are longer than or equal to 4 from a given string.\n",
        "#Input:- 'How much wood would a woodchuck chuck if a woodchuck could chuck wood'\n",
        "#Output:- ['much', 'wood', 'would', 'woodchuck', 'chuck', 'could']\n",
        "#Note:- Duplicate should be avoided.\n",
        "\n",
        "\n",
        "n=4\n",
        "str='How much wood would a woodchuck chuck if a woodchuck could chuck wood'\n",
        "new_list = []\n",
        "text = str.split(\" \")\n",
        "for x in text:\n",
        "\tif len(x) >= n and x not in new_list:\n",
        "\t\tnew_list.append(x)\n",
        "print(new_list)\n",
        "\n",
        "\n",
        "\n"
      ]
    },
    {
      "cell_type": "code",
      "execution_count": 44,
      "metadata": {
        "id": "YVfj0fgZ9416",
        "colab": {
          "base_uri": "https://localhost:8080/"
        },
        "outputId": "029d9f5e-f65a-4866-ceb2-9f776fa0bf1f"
      },
      "outputs": [
        {
          "output_type": "execute_result",
          "data": {
            "text/plain": [
              "True"
            ]
          },
          "metadata": {},
          "execution_count": 44
        }
      ],
      "source": [
        "#Write a Python program which takes two list as input and returns True if they have at least 3 common elements.\n",
        "#inp_lst1 = [10,20,'Python', 10.20, 10+20j, [10,20,30], (10,20,30)]\n",
        "#inp_lst2 = [(10,20,30),1,20+3j,100.2, 10+20j, [10,20,30],'Python']\n",
        "#Output:- True\n",
        "a= [10,20,'Python', 10.20, 10+20j, [10,20,30], (10,20,30)]\n",
        "b= [(10,20,30),1,20+3j,100.2, 10+20j, [10,20,30],'Python']\n",
        "def commonElement(a: list, b: list):\n",
        "    common = 0\n",
        "    for i in a:\n",
        "        if i in b:\n",
        "            common += 1\n",
        "    if common > 3:\n",
        "        return True\n",
        "\n",
        "\n",
        "commonElement(a,b)"
      ]
    },
    {
      "cell_type": "code",
      "execution_count": 46,
      "metadata": {
        "id": "7vwc3pjR945O",
        "colab": {
          "base_uri": "https://localhost:8080/"
        },
        "outputId": "7e488723-f38e-467b-896f-57473e008ff7"
      },
      "outputs": [
        {
          "output_type": "stream",
          "name": "stdout",
          "text": [
            "Input number of rows: 4\n",
            "Input number of columns: 4\n",
            "[[0, 0, 0, 0], [0, 1, 2, 3], [0, 2, 4, 6], [0, 3, 6, 9]]\n"
          ]
        }
      ],
      "source": [
        "from re import A\n",
        "#Write a Python program to create a 4X4 2D matrix with below elements using loop and list comprehension both.\n",
        "#Output:- [[0,0,0,0],[0,1,2,3],[0,2,4,6],[0,3,6,9]]\n",
        "\n",
        "a= int(input(\"Input number of rows: \"))\n",
        "b= int(input(\"Input number of columns: \"))\n",
        "multi_list = [[0 for j in range(b)] for i in range(a)]\n",
        "\n",
        "for i in range(a):\n",
        "    for j in range(b):\n",
        "        multi_list[i][j]= i*j\n",
        "\n",
        "print(multi_list)\n"
      ]
    },
    {
      "cell_type": "code",
      "execution_count": 50,
      "metadata": {
        "id": "Pxafor84948b",
        "colab": {
          "base_uri": "https://localhost:8080/"
        },
        "outputId": "73c1995b-e111-4c3f-8ed0-d78ed0c23f41"
      },
      "outputs": [
        {
          "output_type": "stream",
          "name": "stdout",
          "text": [
            "[[[0, 0, 0, 0, 0, 0], [0, 0, 0, 0, 0, 0], [0, 0, 0, 0, 0, 0], [0, 0, 0, 0, 0, 0]], [[0, 0, 0, 0, 0, 0], [1, 1, 1, 1, 1, 1], [2, 2, 2, 2, 2, 2], [3, 3, 3, 3, 3, 3]], [[0, 0, 0, 0, 0, 0], [2, 2, 2, 2, 2, 2], [4, 4, 4, 4, 4, 4], [6, 6, 6, 6, 6, 6]]]\n"
          ]
        }
      ],
      "source": [
        "4#Write a Python program to create a 3X4X6 3D matrix wiith below elements using loop\n",
        "#Output:- \n",
        "# [\n",
        "#     [[0,0,0,0,0,0],[0,0,0,0,0,0],[0,0,0,0,0,0],[0,0,0,0,0,0]],\n",
        "#     [[0,0,0,0,0,0],[1,1,1,1,1,1],[2,2,2,2,2,2],[3,3,3,3,3,3]],\n",
        "#     [[0,0,0,0,0,0],[2,2,2,2,2,2],[4,4,4,4,4,4],[6,6,6,6,6,6]]\n",
        "# ]\n",
        "\n",
        "list_1 = [[[col*row]*6 for col in range(4)] for row in range(3)]\n",
        "print(list_1)\n"
      ]
    },
    {
      "cell_type": "code",
      "execution_count": 55,
      "metadata": {
        "id": "lYNv8gk794_p",
        "colab": {
          "base_uri": "https://localhost:8080/"
        },
        "outputId": "d12c7b70-a8d1-4ebd-955a-e628b90b57a4"
      },
      "outputs": [
        {
          "output_type": "stream",
          "name": "stdout",
          "text": [
            "[21, 87, 45, 33, 1]\n"
          ]
        }
      ],
      "source": [
        "#Write a Python program which takes a list of numbers as input and prints a new list after removing even numbers from it.\n",
        "#Input:- [10,21,22,98,87,45,33,1,2,100]\n",
        "#Output:- [21,87,45,33,1]\n",
        "\n",
        "S=[10,21,22,98,87,45,33,1,2,100]\n",
        "l=[]\n",
        "for i in S:\n",
        "  if i%2 != 0:\n",
        "    l.append(i)\n",
        "\n",
        "print(l)\n",
        "\n",
        "\n"
      ]
    },
    {
      "cell_type": "code",
      "execution_count": 60,
      "metadata": {
        "id": "3BaCb-rB95B7",
        "colab": {
          "base_uri": "https://localhost:8080/"
        },
        "outputId": "a4e7196b-e059-47e8-fcc7-53700556cd82"
      },
      "outputs": [
        {
          "output_type": "stream",
          "name": "stdout",
          "text": [
            "[21, 2, 10, 1, 87, 98, 100, 45, 33, 22]\n"
          ]
        }
      ],
      "source": [
        "#Write a Python program which takes a list from the user and prints it after reshuffling the elements of the list.\n",
        "#Input:- [10,21,22,98,87,45,33,1,2,100]\n",
        "#Output:- [1,87,21,10,33,2,100,45,98,22] (It may be any random list but with same elements)\n",
        "\n",
        "import random\n",
        "my_list=[10,21,22,98,87,45,33,1,2,100]\n",
        "random.shuffle(my_list)\n",
        "print(my_list)"
      ]
    },
    {
      "cell_type": "code",
      "source": [],
      "metadata": {
        "id": "ve9Ji22NRfK2"
      },
      "execution_count": null,
      "outputs": []
    }
  ],
  "metadata": {
    "colab": {
      "provenance": []
    },
    "kernelspec": {
      "display_name": "Python 3",
      "language": "python",
      "name": "python3"
    },
    "language_info": {
      "codemirror_mode": {
        "name": "ipython",
        "version": 3
      },
      "file_extension": ".py",
      "mimetype": "text/x-python",
      "name": "python",
      "nbconvert_exporter": "python",
      "pygments_lexer": "ipython3",
      "version": "3.9.1"
    }
  },
  "nbformat": 4,
  "nbformat_minor": 0
}