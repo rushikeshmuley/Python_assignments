{
 "cells": [
  {
   "cell_type": "markdown",
   "id": "forbidden-surrey",
   "metadata": {},
   "source": [
    "### Map Function"
   ]
  },
  {
   "cell_type": "code",
   "execution_count": 2,
   "id": "virtual-authority",
   "metadata": {},
   "outputs": [
    {
     "name": "stdout",
     "output_type": "stream",
     "text": [
      "Original list:  (1, 2, 3, 4, 5, 6, 7)\n",
      "\n",
      "Triple of said list numbers:\n",
      "[3, 6, 9, 12, 15, 18, 21]\n"
     ]
    }
   ],
   "source": [
    "# M1 \n",
    "# Write a Python program to triple all numbers of a given sequence of integers.\n",
    "# i/p: nums = (1, 2, 3, 4, 5, 6, 7) \n",
    "# o/p: [3, 6, 9, 12, 15, 18, 21]\n",
    "\n",
    "\n",
    "\n",
    "nums = (1, 2, 3, 4, 5, 6, 7) \n",
    "print(\"Original list: \", nums)\n",
    "result = map(lambda x: x + x + x, nums) \n",
    "print(\"\\nTriple of said list numbers:\")\n",
    "print(list(result))\n"
   ]
  },
  {
   "cell_type": "code",
   "execution_count": 4,
   "id": "chemical-understanding",
   "metadata": {},
   "outputs": [
    {
     "name": "stdout",
     "output_type": "stream",
     "text": [
      "Original list: \n",
      "[1, 2, 3]\n",
      "[4, 5, 6]\n",
      "[7, 8, 9]\n",
      "\n",
      "New list after adding above three lists:\n",
      "[12, 15, 18]\n"
     ]
    }
   ],
   "source": [
    "# M2\n",
    "# Write a Python program to add three given lists.\n",
    "# input:  nums1 = [1, 2, 3] \n",
    "#         nums2 = [4, 5, 6] \n",
    "#         nums3 = [7, 8, 9] \n",
    "# output: [12, 15, 18]\n",
    "\n",
    "nums1 = [1, 2, 3] \n",
    "nums2 = [4, 5, 6] \n",
    "nums3 = [7, 8, 9] \n",
    "print(\"Original list: \")\n",
    "print(nums1)  \n",
    "print(nums2)  \n",
    "print(nums3)  \n",
    "result = map(lambda x, y, z: x + y + z, nums1, nums2, nums3) \n",
    "print(\"\\nNew list after adding above three lists:\")\n",
    "print(list(result))\n",
    "\n",
    "\n"
   ]
  },
  {
   "cell_type": "code",
   "execution_count": 5,
   "id": "rolled-console",
   "metadata": {},
   "outputs": [
    {
     "name": "stdout",
     "output_type": "stream",
     "text": [
      "Original list: \n",
      "['hello', 'world']\n",
      "\n",
      "After listify the list of strings are:\n",
      "[['h', 'e', 'l', 'l', 'o'], ['w', 'o', 'r', 'l', 'd']]\n"
     ]
    }
   ],
   "source": [
    "# M3\n",
    "# Write a Python program to listify the list of given strings individually.\n",
    "# input: l = ['hello', 'world']\n",
    "# output: [['h', 'e', 'l', 'l', 'o'], ['w', 'o', 'r', 'l', 'd']]\n",
    "\n",
    "color = ['hello', 'world'] \n",
    "print(\"Original list: \")\n",
    "print(color) \n",
    "print(\"\\nAfter listify the list of strings are:\") \n",
    "result = list(map(list, color)) \n",
    "print(result)\n",
    "\n"
   ]
  },
  {
   "cell_type": "code",
   "execution_count": 7,
   "id": "severe-regulation",
   "metadata": {},
   "outputs": [
    {
     "name": "stdout",
     "output_type": "stream",
     "text": [
      "Original Characters:\n",
      " ['a', 'b', 'E', 'f', 'a', 'i', 'o', 'U', 'a']\n",
      "\n",
      "After converting above characters in upper and lower cases\n",
      "and eliminating duplicate letters:\n",
      "[('A', 'a'), ('B', 'b'), ('E', 'e'), ('F', 'f'), ('A', 'a'), ('I', 'i'), ('O', 'o'), ('U', 'u'), ('A', 'a')]\n"
     ]
    }
   ],
   "source": [
    "# M4\n",
    "# Write a Python program to convert all the characters in uppercase and lowercase and eliminate duplicate letters from a given sequence. Use map() function\n",
    "\n",
    "# i/p: ['a', 'b', 'E', 'f', 'a', 'i', 'o', 'U', 'a']\n",
    "# o/p: ['A', 'B', 'e', 'F', 'I', 'O', 'u']\n",
    "\n",
    "def change_cases(s):\n",
    "  return str(s).upper(), str(s).lower()\n",
    " \n",
    "chrars = ['a', 'b', 'E', 'f', 'a', 'i', 'o', 'U', 'a']\n",
    "print(\"Original Characters:\\n\",chrars)\n",
    " \n",
    "result = map(change_cases, chrars)\n",
    "print(\"\\nAfter converting above characters in upper and lower cases\\nand eliminating duplicate letters:\")\n",
    "print(list(result))\n",
    "\n",
    "\n",
    "\n",
    "\n"
   ]
  },
  {
   "cell_type": "code",
   "execution_count": 9,
   "id": "international-handy",
   "metadata": {},
   "outputs": [
    {
     "name": "stdout",
     "output_type": "stream",
     "text": [
      "Original lists:\n",
      "[1, 2, 3, 4, 5, 6, 7, 8]\n",
      "[2, 2, 3, 1, 2, 6, 7, 9]\n",
      "\n",
      "Number of same pair of the said two given lists:\n",
      "4\n"
     ]
    }
   ],
   "source": [
    "# M5\n",
    "# Write a Python program to count the same pair in two given lists.\n",
    "# i/p: l1 = [1, 2, 3, 4, 5, 6, 7, 8]\n",
    "#      l2 = [2, 2, 3, 1, 2, 6, 7, 9]\n",
    "# o/p: 4\n",
    "\n",
    "from operator import eq\n",
    "def count_same_pair(nums1, nums2):\n",
    "    result = sum(map(eq, nums1, nums2))\n",
    "    return result\n",
    "\n",
    "nums1 = [1,2,3,4,5,6,7,8]\n",
    "nums2 = [2,2,3,1,2,6,7,9]\n",
    "print(\"Original lists:\")\n",
    "print(nums1)\n",
    "print(nums2)\n",
    "print(\"\\nNumber of same pair of the said two given lists:\")\n",
    "print(count_same_pair(nums1, nums2))\n",
    "\n",
    "\n"
   ]
  },
  {
   "cell_type": "markdown",
   "id": "governmental-anderson",
   "metadata": {},
   "source": [
    "### Date Time"
   ]
  },
  {
   "cell_type": "code",
   "execution_count": 10,
   "id": "gentle-mobility",
   "metadata": {},
   "outputs": [
    {
     "name": "stdout",
     "output_type": "stream",
     "text": [
      "Current date and time:  2023-01-20 21:22:24.368370\n",
      "Current year:  2023\n",
      "Month of year:  January\n",
      "Week number of the year:  03\n",
      "Weekday of the week:  5\n",
      "Day of year:  020\n",
      "Day of the month :  20\n",
      "Day of week:  Friday\n"
     ]
    }
   ],
   "source": [
    "# D1\n",
    "# Write a Python script to display the various Date Time formats - Go to the editor\n",
    "# a) Current date and time\n",
    "# b) Current year\n",
    "# c) Month of year\n",
    "# d) Week number of the year\n",
    "# e) Weekday of the week\n",
    "# f) Day of year\n",
    "# g) Day of the month\n",
    "# h) Day of week\n",
    "\n",
    "import time\n",
    "import datetime\n",
    "print(\"Current date and time: \" , datetime.datetime.now())\n",
    "print(\"Current year: \", datetime.date.today().strftime(\"%Y\"))\n",
    "print(\"Month of year: \", datetime.date.today().strftime(\"%B\"))\n",
    "print(\"Week number of the year: \", datetime.date.today().strftime(\"%W\"))\n",
    "print(\"Weekday of the week: \", datetime.date.today().strftime(\"%w\"))\n",
    "print(\"Day of year: \", datetime.date.today().strftime(\"%j\"))\n",
    "print(\"Day of the month : \", datetime.date.today().strftime(\"%d\"))\n",
    "print(\"Day of week: \", datetime.date.today().strftime(\"%A\"))\n",
    "\n"
   ]
  },
  {
   "cell_type": "code",
   "execution_count": 12,
   "id": "english-necessity",
   "metadata": {},
   "outputs": [
    {
     "name": "stdout",
     "output_type": "stream",
     "text": [
      "False\n",
      "True\n"
     ]
    }
   ],
   "source": [
    "# D2\n",
    "# Write a Python program to determine whether a given year is a leap year.\n",
    "def leap_year(y):\n",
    "    if y % 400 == 0:\n",
    "        return True\n",
    "    if y % 100 == 0:\n",
    "        return False\n",
    "    if y % 4 == 0:\n",
    "        return True\n",
    "    else:\n",
    "        return False\n",
    "print(leap_year(1900))\n",
    "print(leap_year(2004))\n",
    "\n"
   ]
  },
  {
   "cell_type": "code",
   "execution_count": 13,
   "id": "painted-professional",
   "metadata": {},
   "outputs": [
    {
     "name": "stdout",
     "output_type": "stream",
     "text": [
      "Yesterday :  2023-01-19\n",
      "Today :  2023-01-20\n",
      "Tomorrow :  2023-01-21\n"
     ]
    }
   ],
   "source": [
    "# D3\n",
    "# Write a Python program to print yesterday, today, tomorrow based on current system date.\n",
    "\n",
    "import datetime \n",
    "today = datetime.date.today()\n",
    "yesterday = today - datetime.timedelta(days = 1)\n",
    "tomorrow = today + datetime.timedelta(days = 1) \n",
    "print('Yesterday : ',yesterday)\n",
    "print('Today : ',today)\n",
    "print('Tomorrow : ',tomorrow)\n"
   ]
  },
  {
   "cell_type": "code",
   "execution_count": 14,
   "id": "korean-pollution",
   "metadata": {},
   "outputs": [
    {
     "name": "stdout",
     "output_type": "stream",
     "text": [
      "2020-01-05\n",
      "2020-01-12\n",
      "2020-01-19\n",
      "2020-01-26\n",
      "2020-02-02\n",
      "2020-02-09\n",
      "2020-02-16\n",
      "2020-02-23\n",
      "2020-03-01\n",
      "2020-03-08\n",
      "2020-03-15\n",
      "2020-03-22\n",
      "2020-03-29\n",
      "2020-04-05\n",
      "2020-04-12\n",
      "2020-04-19\n",
      "2020-04-26\n",
      "2020-05-03\n",
      "2020-05-10\n",
      "2020-05-17\n",
      "2020-05-24\n",
      "2020-05-31\n",
      "2020-06-07\n",
      "2020-06-14\n",
      "2020-06-21\n",
      "2020-06-28\n",
      "2020-07-05\n",
      "2020-07-12\n",
      "2020-07-19\n",
      "2020-07-26\n",
      "2020-08-02\n",
      "2020-08-09\n",
      "2020-08-16\n",
      "2020-08-23\n",
      "2020-08-30\n",
      "2020-09-06\n",
      "2020-09-13\n",
      "2020-09-20\n",
      "2020-09-27\n",
      "2020-10-04\n",
      "2020-10-11\n",
      "2020-10-18\n",
      "2020-10-25\n",
      "2020-11-01\n",
      "2020-11-08\n",
      "2020-11-15\n",
      "2020-11-22\n",
      "2020-11-29\n",
      "2020-12-06\n",
      "2020-12-13\n",
      "2020-12-20\n",
      "2020-12-27\n"
     ]
    }
   ],
   "source": [
    "# # D4\n",
    "# Write a Python program to print dates of all the Sundays of a specified year.\n",
    "\n",
    "from datetime import date, timedelta\n",
    "\n",
    "def all_sundays(year):\n",
    "# January 1st of the given year\n",
    "       dt = date(year, 1, 1)\n",
    "# First Sunday of the given year       \n",
    "       dt += timedelta(days = 6 - dt.weekday())  \n",
    "       while dt.year == year:\n",
    "          yield dt\n",
    "          dt += timedelta(days = 7)\n",
    "          \n",
    "for s in all_sundays(2020):\n",
    "   print(s)\n",
    "   "
   ]
  },
  {
   "cell_type": "code",
   "execution_count": 15,
   "id": "severe-exclusion",
   "metadata": {},
   "outputs": [
    {
     "name": "stdout",
     "output_type": "stream",
     "text": [
      "9\n"
     ]
    }
   ],
   "source": [
    "# D5\n",
    "# Write a Python program to calculate a number of days between two dates.\n",
    "\n",
    "from datetime import date\n",
    "f_date = date(2014, 7, 2)\n",
    "l_date = date(2014, 7, 11)\n",
    "delta = l_date - f_date\n",
    "print(delta.days)\n"
   ]
  },
  {
   "cell_type": "code",
   "execution_count": null,
   "id": "balanced-finish",
   "metadata": {},
   "outputs": [],
   "source": []
  }
 ],
 "metadata": {
  "kernelspec": {
   "display_name": "Python 3",
   "language": "python",
   "name": "python3"
  },
  "language_info": {
   "codemirror_mode": {
    "name": "ipython",
    "version": 3
   },
   "file_extension": ".py",
   "mimetype": "text/x-python",
   "name": "python",
   "nbconvert_exporter": "python",
   "pygments_lexer": "ipython3",
   "version": "3.8.8"
  }
 },
 "nbformat": 4,
 "nbformat_minor": 5
}
